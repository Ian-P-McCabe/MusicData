{
 "cells": [
  {
   "cell_type": "code",
   "execution_count": 1,
   "metadata": {
    "collapsed": true,
    "ExecuteTime": {
     "end_time": "2024-03-09T14:23:53.178434Z",
     "start_time": "2024-03-09T14:23:51.687472Z"
    }
   },
   "outputs": [
    {
     "data": {
      "text/plain": "                                             Results\n0  {'artists': [], 'works': [{'series': [], 'work...\n1  {'artists': [], 'works': [{'series': [], 'work...\n2  {'artists': [], 'works': [{'series': [], 'work...\n3  {'artists': [], 'works': [{'series': [], 'work...\n4  {'artists': [], 'works': [{'series': [], 'work...",
      "text/html": "<div>\n<style scoped>\n    .dataframe tbody tr th:only-of-type {\n        vertical-align: middle;\n    }\n\n    .dataframe tbody tr th {\n        vertical-align: top;\n    }\n\n    .dataframe thead th {\n        text-align: right;\n    }\n</style>\n<table border=\"1\" class=\"dataframe\">\n  <thead>\n    <tr style=\"text-align: right;\">\n      <th></th>\n      <th>Results</th>\n    </tr>\n  </thead>\n  <tbody>\n    <tr>\n      <th>0</th>\n      <td>{'artists': [], 'works': [{'series': [], 'work...</td>\n    </tr>\n    <tr>\n      <th>1</th>\n      <td>{'artists': [], 'works': [{'series': [], 'work...</td>\n    </tr>\n    <tr>\n      <th>2</th>\n      <td>{'artists': [], 'works': [{'series': [], 'work...</td>\n    </tr>\n    <tr>\n      <th>3</th>\n      <td>{'artists': [], 'works': [{'series': [], 'work...</td>\n    </tr>\n    <tr>\n      <th>4</th>\n      <td>{'artists': [], 'works': [{'series': [], 'work...</td>\n    </tr>\n  </tbody>\n</table>\n</div>"
     },
     "execution_count": 1,
     "metadata": {},
     "output_type": "execute_result"
    }
   ],
   "source": [
    "import pandas as pd\n",
    "import numpy as np\n",
    "import json\n",
    "\n",
    "df = pd.read_json(\"BSO_Data/sample_data/bso_out_1.json\")\n",
    "df.head()\n",
    "\n",
    "df.drop(columns=\"DebugInfo\", inplace=True)\n",
    "\n",
    "df.head()"
   ]
  },
  {
   "cell_type": "code",
   "execution_count": 2,
   "outputs": [
    {
     "data": {
      "text/plain": "  artists                                              works events  \\\n0      []  [{'series': [], 'workID': 465543, 'workGroupID...     []   \n1      []  [{'series': [], 'workID': 459861, 'workGroupID...     []   \n2      []  [{'series': [], 'workID': 459460, 'workGroupID...     []   \n3      []  [{'series': [], 'workID': 459580, 'workGroupID...     []   \n4      []  [{'series': [], 'workID': 462497, 'workGroupID...     []   \n\n                                              series  \\\n0                                                 []   \n1  [{'SeriesName': 'Holiday Pops Concerts', 'Seri...   \n2  [{'SeriesName': 'Boston Pops Concerts', 'Serie...   \n3  [{'SeriesName': 'Holiday Pops Concerts', 'Seri...   \n4                                                 []   \n\n                                  eventProgramTitles  \\\n0  [{'EventTitle': ''}, {'EventTitle': ''}, {'Eve...   \n1  [{'EventTitle': ''}, {'EventTitle': ''}, {'Eve...   \n2  [{'EventTitle': 'Sensory Friendly Concert'}, {...   \n3  [{'EventTitle': ''}, {'EventTitle': ''}, {'Eve...   \n4                               [{'EventTitle': ''}]   \n\n          EventProgramTitle  EventID  EventProgramNo            EventDate  \\\n0                             103817               0  2023-06-01T00:00:00   \n1                             103952               0  2022-12-10T00:00:00   \n2  Sensory Friendly Concert   102856               0  2022-12-03T00:00:00   \n3                             103986               0  2022-12-10T00:00:00   \n4                             104420               0  2023-05-27T00:00:00   \n\n        SeasonTitle  ...                    DetailLink ProgramBookLink  \\\n0  2022-2023 Season  ...  Detail.aspx?UniqueKey=103817                   \n1  2022-2023 Season  ...  Detail.aspx?UniqueKey=103952                   \n2  2022-2023 Season  ...  Detail.aspx?UniqueKey=102856                   \n3  2022-2023 Season  ...  Detail.aspx?UniqueKey=103986                   \n4  2022-2023 Season  ...  Detail.aspx?UniqueKey=104420                   \n\n  conductor.ConductorFullName     venue.VenueLocation venue.VenueCity  \\\n0              Keith Lockhart      Boston, MA, U.S.A.          Boston   \n1                James Burton      Boston, MA, U.S.A.          Boston   \n2              Keith Lockhart      Boston, MA, U.S.A.          Boston   \n3              Keith Lockhart  Manchester, NH, U.S.A.      Manchester   \n4              Keith Lockhart      Boston, MA, U.S.A.          Boston   \n\n  venue.VenueState venue.VenueCountry venue.VenueName  \\\n0               MA             U.S.A.   Symphony Hall   \n1               MA             U.S.A.   Symphony Hall   \n2               MA             U.S.A.   Symphony Hall   \n3               NH             U.S.A.      SNHU Arena   \n4               MA             U.S.A.   Symphony Hall   \n\n           orchestra.OrchestraName season.SeasonName  \n0            Boston Pops Orchestra  2022-2023 Season  \n1            Boston Pops Orchestra  2022-2023 Season  \n2            Boston Pops Orchestra  2022-2023 Season  \n3  Boston Pops Esplanade Orchestra  2022-2023 Season  \n4            Boston Pops Orchestra  2022-2023 Season  \n\n[5 rows x 23 columns]",
      "text/html": "<div>\n<style scoped>\n    .dataframe tbody tr th:only-of-type {\n        vertical-align: middle;\n    }\n\n    .dataframe tbody tr th {\n        vertical-align: top;\n    }\n\n    .dataframe thead th {\n        text-align: right;\n    }\n</style>\n<table border=\"1\" class=\"dataframe\">\n  <thead>\n    <tr style=\"text-align: right;\">\n      <th></th>\n      <th>artists</th>\n      <th>works</th>\n      <th>events</th>\n      <th>series</th>\n      <th>eventProgramTitles</th>\n      <th>EventProgramTitle</th>\n      <th>EventID</th>\n      <th>EventProgramNo</th>\n      <th>EventDate</th>\n      <th>SeasonTitle</th>\n      <th>...</th>\n      <th>DetailLink</th>\n      <th>ProgramBookLink</th>\n      <th>conductor.ConductorFullName</th>\n      <th>venue.VenueLocation</th>\n      <th>venue.VenueCity</th>\n      <th>venue.VenueState</th>\n      <th>venue.VenueCountry</th>\n      <th>venue.VenueName</th>\n      <th>orchestra.OrchestraName</th>\n      <th>season.SeasonName</th>\n    </tr>\n  </thead>\n  <tbody>\n    <tr>\n      <th>0</th>\n      <td>[]</td>\n      <td>[{'series': [], 'workID': 465543, 'workGroupID...</td>\n      <td>[]</td>\n      <td>[]</td>\n      <td>[{'EventTitle': ''}, {'EventTitle': ''}, {'Eve...</td>\n      <td></td>\n      <td>103817</td>\n      <td>0</td>\n      <td>2023-06-01T00:00:00</td>\n      <td>2022-2023 Season</td>\n      <td>...</td>\n      <td>Detail.aspx?UniqueKey=103817</td>\n      <td></td>\n      <td>Keith Lockhart</td>\n      <td>Boston, MA, U.S.A.</td>\n      <td>Boston</td>\n      <td>MA</td>\n      <td>U.S.A.</td>\n      <td>Symphony Hall</td>\n      <td>Boston Pops Orchestra</td>\n      <td>2022-2023 Season</td>\n    </tr>\n    <tr>\n      <th>1</th>\n      <td>[]</td>\n      <td>[{'series': [], 'workID': 459861, 'workGroupID...</td>\n      <td>[]</td>\n      <td>[{'SeriesName': 'Holiday Pops Concerts', 'Seri...</td>\n      <td>[{'EventTitle': ''}, {'EventTitle': ''}, {'Eve...</td>\n      <td></td>\n      <td>103952</td>\n      <td>0</td>\n      <td>2022-12-10T00:00:00</td>\n      <td>2022-2023 Season</td>\n      <td>...</td>\n      <td>Detail.aspx?UniqueKey=103952</td>\n      <td></td>\n      <td>James Burton</td>\n      <td>Boston, MA, U.S.A.</td>\n      <td>Boston</td>\n      <td>MA</td>\n      <td>U.S.A.</td>\n      <td>Symphony Hall</td>\n      <td>Boston Pops Orchestra</td>\n      <td>2022-2023 Season</td>\n    </tr>\n    <tr>\n      <th>2</th>\n      <td>[]</td>\n      <td>[{'series': [], 'workID': 459460, 'workGroupID...</td>\n      <td>[]</td>\n      <td>[{'SeriesName': 'Boston Pops Concerts', 'Serie...</td>\n      <td>[{'EventTitle': 'Sensory Friendly Concert'}, {...</td>\n      <td>Sensory Friendly Concert</td>\n      <td>102856</td>\n      <td>0</td>\n      <td>2022-12-03T00:00:00</td>\n      <td>2022-2023 Season</td>\n      <td>...</td>\n      <td>Detail.aspx?UniqueKey=102856</td>\n      <td></td>\n      <td>Keith Lockhart</td>\n      <td>Boston, MA, U.S.A.</td>\n      <td>Boston</td>\n      <td>MA</td>\n      <td>U.S.A.</td>\n      <td>Symphony Hall</td>\n      <td>Boston Pops Orchestra</td>\n      <td>2022-2023 Season</td>\n    </tr>\n    <tr>\n      <th>3</th>\n      <td>[]</td>\n      <td>[{'series': [], 'workID': 459580, 'workGroupID...</td>\n      <td>[]</td>\n      <td>[{'SeriesName': 'Holiday Pops Concerts', 'Seri...</td>\n      <td>[{'EventTitle': ''}, {'EventTitle': ''}, {'Eve...</td>\n      <td></td>\n      <td>103986</td>\n      <td>0</td>\n      <td>2022-12-10T00:00:00</td>\n      <td>2022-2023 Season</td>\n      <td>...</td>\n      <td>Detail.aspx?UniqueKey=103986</td>\n      <td></td>\n      <td>Keith Lockhart</td>\n      <td>Manchester, NH, U.S.A.</td>\n      <td>Manchester</td>\n      <td>NH</td>\n      <td>U.S.A.</td>\n      <td>SNHU Arena</td>\n      <td>Boston Pops Esplanade Orchestra</td>\n      <td>2022-2023 Season</td>\n    </tr>\n    <tr>\n      <th>4</th>\n      <td>[]</td>\n      <td>[{'series': [], 'workID': 462497, 'workGroupID...</td>\n      <td>[]</td>\n      <td>[]</td>\n      <td>[{'EventTitle': ''}]</td>\n      <td></td>\n      <td>104420</td>\n      <td>0</td>\n      <td>2023-05-27T00:00:00</td>\n      <td>2022-2023 Season</td>\n      <td>...</td>\n      <td>Detail.aspx?UniqueKey=104420</td>\n      <td></td>\n      <td>Keith Lockhart</td>\n      <td>Boston, MA, U.S.A.</td>\n      <td>Boston</td>\n      <td>MA</td>\n      <td>U.S.A.</td>\n      <td>Symphony Hall</td>\n      <td>Boston Pops Orchestra</td>\n      <td>2022-2023 Season</td>\n    </tr>\n  </tbody>\n</table>\n<p>5 rows × 23 columns</p>\n</div>"
     },
     "execution_count": 2,
     "metadata": {},
     "output_type": "execute_result"
    }
   ],
   "source": [
    "with open(\"BSO_Data/sample_data/bso_out_1.json\") as f:\n",
    "    d = json.load(f)\n",
    "\n",
    "df = pd.json_normalize(d, record_path=[\"Results\"])\n",
    "df.head()"
   ],
   "metadata": {
    "collapsed": false,
    "ExecuteTime": {
     "end_time": "2024-03-09T14:23:53.236190Z",
     "start_time": "2024-03-09T14:23:53.171902Z"
    }
   }
  },
  {
   "cell_type": "code",
   "execution_count": 3,
   "outputs": [
    {
     "data": {
      "text/plain": "                                             artists  \\\n0  [{'work': None, 'artistInstruments': [], 'seri...   \n1  [{'work': None, 'artistInstruments': [], 'seri...   \n2  [{'work': None, 'artistInstruments': [], 'seri...   \n3  [{'work': None, 'artistInstruments': [], 'seri...   \n4  [{'work': None, 'artistInstruments': [], 'seri...   \n\n                                               works events  \\\n0  [{'series': [], 'workID': 363458, 'workGroupID...     []   \n1  [{'series': [], 'workID': 352137, 'workGroupID...     []   \n2  [{'series': [], 'workID': 352160, 'workGroupID...     []   \n3  [{'series': [], 'workID': 131453, 'workGroupID...     []   \n4  [{'series': [], 'workID': 441179, 'workGroupID...     []   \n\n                                              series  \\\n0  [{'SeriesName': 'Tanglewood on Parade', 'Serie...   \n1  [{'SeriesName': 'Holiday Pops Concerts', 'Seri...   \n2  [{'SeriesName': 'Holiday Pops Concerts', 'Seri...   \n3                                                 []   \n4                                                 []   \n\n                                  eventProgramTitles  \\\n0  [{'EventTitle': ''}, {'EventTitle': ''}, {'Eve...   \n1  [{'EventTitle': 'Holiday Pops'}, {'EventTitle'...   \n2  [{'EventTitle': 'Holiday Pops'}, {'EventTitle'...   \n3                               [{'EventTitle': ''}]   \n4  [{'EventTitle': ''}, {'EventTitle': ''}, {'Eve...   \n\n                                 conductor  \\\n0     {'ConductorFullName': 'John Oliver'}   \n1  {'ConductorFullName': 'Keith Lockhart'}   \n2  {'ConductorFullName': 'Keith Lockhart'}   \n3                {'ConductorFullName': ''}   \n4  {'ConductorFullName': 'Keith Lockhart'}   \n\n                                               venue  \\\n0  {'VenueLocation': 'Lenox, MA, U.S.A.', 'VenueC...   \n1  {'VenueLocation': 'Boston, MA, U.S.A.', 'Venue...   \n2  {'VenueLocation': 'Boston, MA, U.S.A.', 'Venue...   \n3  {'VenueLocation': 'Lenox, MA, U.S.A.', 'VenueC...   \n4  {'VenueLocation': 'Providence, RI, U.S.A.', 'V...   \n\n                                           orchestra  \\\n0                              {'OrchestraName': ''}   \n1         {'OrchestraName': 'Boston Pops Orchestra'}   \n2         {'OrchestraName': 'Boston Pops Orchestra'}   \n3                              {'OrchestraName': ''}   \n4  {'OrchestraName': 'Boston Pops Esplanade Orche...   \n\n                               season EventProgramTitle  EventID  \\\n0  {'SeasonName': '1967-1968 Season'}                      86335   \n1  {'SeasonName': '2006-2007 Season'}      Holiday Pops    17486   \n2  {'SeasonName': '2006-2007 Season'}      Holiday Pops    17487   \n3  {'SeasonName': '2006-2007 Season'}                      44566   \n4  {'SeasonName': '2019-2020 Season'}                      97330   \n\n   EventProgramNo            EventDate       SeasonTitle EventDateString  \\\n0               1  1968-08-14T00:00:00  1967-1968 Season      08-14-1968   \n1               1  2006-12-20T00:00:00  2006-2007 Season      12-20-2006   \n2               1  2006-12-21T00:00:00  2006-2007 Season      12-21-2006   \n3               0  2007-08-31T00:00:00  2006-2007 Season      08-31-2007   \n4               0  2019-11-30T00:00:00  2019-2020 Season      11-30-2019   \n\n  EventStartTime EventEndTime                   DetailLink  \\\n0          18:00               Detail.aspx?UniqueKey=86335   \n1          20:05        22:05  Detail.aspx?UniqueKey=17486   \n2          20:05        22:05  Detail.aspx?UniqueKey=17487   \n3                              Detail.aspx?UniqueKey=44566   \n4          20:10        22:10  Detail.aspx?UniqueKey=97330   \n\n                                     ProgramBookLink  \n0  https://archive.org/stream/tanglewoodmusicc196...  \n1  https://archive.org/stream/bostonpopsholida200...  \n2  https://archive.org/stream/bostonpopsholida200...  \n3                                                     \n4                                                     ",
      "text/html": "<div>\n<style scoped>\n    .dataframe tbody tr th:only-of-type {\n        vertical-align: middle;\n    }\n\n    .dataframe tbody tr th {\n        vertical-align: top;\n    }\n\n    .dataframe thead th {\n        text-align: right;\n    }\n</style>\n<table border=\"1\" class=\"dataframe\">\n  <thead>\n    <tr style=\"text-align: right;\">\n      <th></th>\n      <th>artists</th>\n      <th>works</th>\n      <th>events</th>\n      <th>series</th>\n      <th>eventProgramTitles</th>\n      <th>conductor</th>\n      <th>venue</th>\n      <th>orchestra</th>\n      <th>season</th>\n      <th>EventProgramTitle</th>\n      <th>EventID</th>\n      <th>EventProgramNo</th>\n      <th>EventDate</th>\n      <th>SeasonTitle</th>\n      <th>EventDateString</th>\n      <th>EventStartTime</th>\n      <th>EventEndTime</th>\n      <th>DetailLink</th>\n      <th>ProgramBookLink</th>\n    </tr>\n  </thead>\n  <tbody>\n    <tr>\n      <th>0</th>\n      <td>[{'work': None, 'artistInstruments': [], 'seri...</td>\n      <td>[{'series': [], 'workID': 363458, 'workGroupID...</td>\n      <td>[]</td>\n      <td>[{'SeriesName': 'Tanglewood on Parade', 'Serie...</td>\n      <td>[{'EventTitle': ''}, {'EventTitle': ''}, {'Eve...</td>\n      <td>{'ConductorFullName': 'John Oliver'}</td>\n      <td>{'VenueLocation': 'Lenox, MA, U.S.A.', 'VenueC...</td>\n      <td>{'OrchestraName': ''}</td>\n      <td>{'SeasonName': '1967-1968 Season'}</td>\n      <td></td>\n      <td>86335</td>\n      <td>1</td>\n      <td>1968-08-14T00:00:00</td>\n      <td>1967-1968 Season</td>\n      <td>08-14-1968</td>\n      <td>18:00</td>\n      <td></td>\n      <td>Detail.aspx?UniqueKey=86335</td>\n      <td>https://archive.org/stream/tanglewoodmusicc196...</td>\n    </tr>\n    <tr>\n      <th>1</th>\n      <td>[{'work': None, 'artistInstruments': [], 'seri...</td>\n      <td>[{'series': [], 'workID': 352137, 'workGroupID...</td>\n      <td>[]</td>\n      <td>[{'SeriesName': 'Holiday Pops Concerts', 'Seri...</td>\n      <td>[{'EventTitle': 'Holiday Pops'}, {'EventTitle'...</td>\n      <td>{'ConductorFullName': 'Keith Lockhart'}</td>\n      <td>{'VenueLocation': 'Boston, MA, U.S.A.', 'Venue...</td>\n      <td>{'OrchestraName': 'Boston Pops Orchestra'}</td>\n      <td>{'SeasonName': '2006-2007 Season'}</td>\n      <td>Holiday Pops</td>\n      <td>17486</td>\n      <td>1</td>\n      <td>2006-12-20T00:00:00</td>\n      <td>2006-2007 Season</td>\n      <td>12-20-2006</td>\n      <td>20:05</td>\n      <td>22:05</td>\n      <td>Detail.aspx?UniqueKey=17486</td>\n      <td>https://archive.org/stream/bostonpopsholida200...</td>\n    </tr>\n    <tr>\n      <th>2</th>\n      <td>[{'work': None, 'artistInstruments': [], 'seri...</td>\n      <td>[{'series': [], 'workID': 352160, 'workGroupID...</td>\n      <td>[]</td>\n      <td>[{'SeriesName': 'Holiday Pops Concerts', 'Seri...</td>\n      <td>[{'EventTitle': 'Holiday Pops'}, {'EventTitle'...</td>\n      <td>{'ConductorFullName': 'Keith Lockhart'}</td>\n      <td>{'VenueLocation': 'Boston, MA, U.S.A.', 'Venue...</td>\n      <td>{'OrchestraName': 'Boston Pops Orchestra'}</td>\n      <td>{'SeasonName': '2006-2007 Season'}</td>\n      <td>Holiday Pops</td>\n      <td>17487</td>\n      <td>1</td>\n      <td>2006-12-21T00:00:00</td>\n      <td>2006-2007 Season</td>\n      <td>12-21-2006</td>\n      <td>20:05</td>\n      <td>22:05</td>\n      <td>Detail.aspx?UniqueKey=17487</td>\n      <td>https://archive.org/stream/bostonpopsholida200...</td>\n    </tr>\n    <tr>\n      <th>3</th>\n      <td>[{'work': None, 'artistInstruments': [], 'seri...</td>\n      <td>[{'series': [], 'workID': 131453, 'workGroupID...</td>\n      <td>[]</td>\n      <td>[]</td>\n      <td>[{'EventTitle': ''}]</td>\n      <td>{'ConductorFullName': ''}</td>\n      <td>{'VenueLocation': 'Lenox, MA, U.S.A.', 'VenueC...</td>\n      <td>{'OrchestraName': ''}</td>\n      <td>{'SeasonName': '2006-2007 Season'}</td>\n      <td></td>\n      <td>44566</td>\n      <td>0</td>\n      <td>2007-08-31T00:00:00</td>\n      <td>2006-2007 Season</td>\n      <td>08-31-2007</td>\n      <td></td>\n      <td></td>\n      <td>Detail.aspx?UniqueKey=44566</td>\n      <td></td>\n    </tr>\n    <tr>\n      <th>4</th>\n      <td>[{'work': None, 'artistInstruments': [], 'seri...</td>\n      <td>[{'series': [], 'workID': 441179, 'workGroupID...</td>\n      <td>[]</td>\n      <td>[]</td>\n      <td>[{'EventTitle': ''}, {'EventTitle': ''}, {'Eve...</td>\n      <td>{'ConductorFullName': 'Keith Lockhart'}</td>\n      <td>{'VenueLocation': 'Providence, RI, U.S.A.', 'V...</td>\n      <td>{'OrchestraName': 'Boston Pops Esplanade Orche...</td>\n      <td>{'SeasonName': '2019-2020 Season'}</td>\n      <td></td>\n      <td>97330</td>\n      <td>0</td>\n      <td>2019-11-30T00:00:00</td>\n      <td>2019-2020 Season</td>\n      <td>11-30-2019</td>\n      <td>20:10</td>\n      <td>22:10</td>\n      <td>Detail.aspx?UniqueKey=97330</td>\n      <td></td>\n    </tr>\n  </tbody>\n</table>\n</div>"
     },
     "execution_count": 3,
     "metadata": {},
     "output_type": "execute_result"
    }
   ],
   "source": [
    "df = pd.read_json(\"fullhistory.json\")\n",
    "df.explode(\"works\")\n",
    "df.head()\n"
   ],
   "metadata": {
    "collapsed": false,
    "ExecuteTime": {
     "end_time": "2024-03-09T14:23:54.530625Z",
     "start_time": "2024-03-09T14:23:53.217742Z"
    }
   }
  },
  {
   "cell_type": "code",
   "execution_count": 40,
   "outputs": [
    {
     "name": "stdout",
     "output_type": "stream",
     "text": [
      "317 - Richard Wagner, Meistersinger: Act 1: Prelude\n",
      "267 - Ludwig van Beethoven, Symphony No.  5 in C minor, Op. 67\n",
      "265 - Richard Wagner, Tannhäuser: Overture\n",
      "256 - Johannes Brahms, Symphony No.   2 in D major, Op. 73\n",
      "246 - Johannes Brahms, Symphony No.   1 in C minor, Op. 68\n",
      "234 - Ludwig van Beethoven, Symphony No.  7 in A major, Op. 92\n",
      "232 - Ludwig van Beethoven, Symphony No.  3 in E-flat major, Op. 55, \"Eroica\"\n",
      "225 - Ludwig van Beethoven, Leonore Overture No. 3, Op. 72b\n",
      "206 - Pyotr Ilyich Tchaikovsky, Symphony No.  6 in B minor, \"Pathétique\"\n",
      "187 - Johannes Brahms, Symphony No.   4 in E minor, Op. 98\n",
      "176 - Richard Strauss, Till Eulenspiegel's Merry Pranks, Op. 28\n",
      "176 - Ludwig van Beethoven, Egmont: Incidental Music, Op. 84: (01) Overture\n",
      "172 - Carl Maria von Weber, Oberon: Overture\n",
      "170 - Richard Wagner, Lohengrin: Act 1: Prelude\n",
      "165 - Franz Schubert, Symphony No.   8 in B minor, D.759, \"Unfinished\"\n"
     ]
    }
   ],
   "source": [
    "with open ('fullhistory.json') as f:\n",
    "    d = json.load(f)\n",
    "\n",
    "df = pd.json_normalize(d)\n",
    "\n",
    "new = df[df['orchestra.OrchestraName'] == \"Boston Symphony Orchestra\"]\n",
    "\n",
    "works_df = pd.json_normalize(new['works'].explode())\n",
    "\n",
    "most_popular = works_df['WorkTitle'].value_counts(ascending=False)[:15]\n",
    "\n",
    "merged_df = pd.merge(most_popular, works_df[['WorkTitle', 'ComposerFullName']], on='WorkTitle', how='left')\n",
    "\n",
    "merged_df = merged_df.drop_duplicates(subset=['WorkTitle'], keep='first')\n",
    "\n",
    "merged_df.head()\n",
    "\n",
    "for index, row in merged_df.iterrows():\n",
    "    print(str(row['count']) + \" - \" + row['ComposerFullName'] + \", \" + row['WorkTitle'])"
   ],
   "metadata": {
    "collapsed": false,
    "ExecuteTime": {
     "end_time": "2024-03-10T16:38:15.924646Z",
     "start_time": "2024-03-10T16:38:14.152554Z"
    }
   }
  },
  {
   "cell_type": "code",
   "execution_count": 36,
   "outputs": [
    {
     "data": {
      "text/plain": "                                WorkTitle  count      ComposerFullName\n0           Meistersinger: Act 1: Prelude    317        Richard Wagner\n317    Symphony No.  5 in C minor, Op. 67    267  Ludwig van Beethoven\n584                  Tannhäuser: Overture    265        Richard Wagner\n849   Symphony No.   2 in D major, Op. 73    256       Johannes Brahms\n1105  Symphony No.   1 in C minor, Op. 68    246       Johannes Brahms",
      "text/html": "<div>\n<style scoped>\n    .dataframe tbody tr th:only-of-type {\n        vertical-align: middle;\n    }\n\n    .dataframe tbody tr th {\n        vertical-align: top;\n    }\n\n    .dataframe thead th {\n        text-align: right;\n    }\n</style>\n<table border=\"1\" class=\"dataframe\">\n  <thead>\n    <tr style=\"text-align: right;\">\n      <th></th>\n      <th>WorkTitle</th>\n      <th>count</th>\n      <th>ComposerFullName</th>\n    </tr>\n  </thead>\n  <tbody>\n    <tr>\n      <th>0</th>\n      <td>Meistersinger: Act 1: Prelude</td>\n      <td>317</td>\n      <td>Richard Wagner</td>\n    </tr>\n    <tr>\n      <th>317</th>\n      <td>Symphony No.  5 in C minor, Op. 67</td>\n      <td>267</td>\n      <td>Ludwig van Beethoven</td>\n    </tr>\n    <tr>\n      <th>584</th>\n      <td>Tannhäuser: Overture</td>\n      <td>265</td>\n      <td>Richard Wagner</td>\n    </tr>\n    <tr>\n      <th>849</th>\n      <td>Symphony No.   2 in D major, Op. 73</td>\n      <td>256</td>\n      <td>Johannes Brahms</td>\n    </tr>\n    <tr>\n      <th>1105</th>\n      <td>Symphony No.   1 in C minor, Op. 68</td>\n      <td>246</td>\n      <td>Johannes Brahms</td>\n    </tr>\n  </tbody>\n</table>\n</div>"
     },
     "execution_count": 36,
     "metadata": {},
     "output_type": "execute_result"
    }
   ],
   "source": [
    "\n"
   ],
   "metadata": {
    "collapsed": false,
    "ExecuteTime": {
     "end_time": "2024-03-10T16:34:32.153804Z",
     "start_time": "2024-03-10T16:34:32.147453Z"
    }
   }
  },
  {
   "cell_type": "code",
   "execution_count": null,
   "outputs": [],
   "source": [],
   "metadata": {
    "collapsed": false
   }
  }
 ],
 "metadata": {
  "kernelspec": {
   "display_name": "Python 3",
   "language": "python",
   "name": "python3"
  },
  "language_info": {
   "codemirror_mode": {
    "name": "ipython",
    "version": 2
   },
   "file_extension": ".py",
   "mimetype": "text/x-python",
   "name": "python",
   "nbconvert_exporter": "python",
   "pygments_lexer": "ipython2",
   "version": "2.7.6"
  }
 },
 "nbformat": 4,
 "nbformat_minor": 0
}
