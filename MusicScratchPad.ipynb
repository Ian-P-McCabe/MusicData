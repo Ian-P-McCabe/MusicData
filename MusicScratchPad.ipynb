{
 "cells": [
  {
   "cell_type": "code",
   "execution_count": 7,
   "metadata": {
    "collapsed": true,
    "ExecuteTime": {
     "end_time": "2024-02-15T04:28:12.391320Z",
     "start_time": "2024-02-15T04:28:12.344052Z"
    }
   },
   "outputs": [
    {
     "data": {
      "text/plain": "                                             Results\n0  {'artists': [], 'works': [{'series': [], 'work...\n1  {'artists': [], 'works': [{'series': [], 'work...\n2  {'artists': [], 'works': [{'series': [], 'work...\n3  {'artists': [], 'works': [{'series': [], 'work...\n4  {'artists': [], 'works': [{'series': [], 'work...",
      "text/html": "<div>\n<style scoped>\n    .dataframe tbody tr th:only-of-type {\n        vertical-align: middle;\n    }\n\n    .dataframe tbody tr th {\n        vertical-align: top;\n    }\n\n    .dataframe thead th {\n        text-align: right;\n    }\n</style>\n<table border=\"1\" class=\"dataframe\">\n  <thead>\n    <tr style=\"text-align: right;\">\n      <th></th>\n      <th>Results</th>\n    </tr>\n  </thead>\n  <tbody>\n    <tr>\n      <th>0</th>\n      <td>{'artists': [], 'works': [{'series': [], 'work...</td>\n    </tr>\n    <tr>\n      <th>1</th>\n      <td>{'artists': [], 'works': [{'series': [], 'work...</td>\n    </tr>\n    <tr>\n      <th>2</th>\n      <td>{'artists': [], 'works': [{'series': [], 'work...</td>\n    </tr>\n    <tr>\n      <th>3</th>\n      <td>{'artists': [], 'works': [{'series': [], 'work...</td>\n    </tr>\n    <tr>\n      <th>4</th>\n      <td>{'artists': [], 'works': [{'series': [], 'work...</td>\n    </tr>\n  </tbody>\n</table>\n</div>"
     },
     "execution_count": 7,
     "metadata": {},
     "output_type": "execute_result"
    }
   ],
   "source": [
    "import pandas as pd\n",
    "import numpy as np\n",
    "import json\n",
    "\n",
    "df = pd.read_json(\"BSO_Data/sample_data/bso_out_1.json\")\n",
    "df.head()\n",
    "\n",
    "df.drop(columns=\"DebugInfo\", inplace=True)\n",
    "\n",
    "df.head()"
   ]
  },
  {
   "cell_type": "code",
   "execution_count": 8,
   "outputs": [
    {
     "data": {
      "text/plain": "  artists                                              works events  \\\n0      []  [{'series': [], 'workID': 465543, 'workGroupID...     []   \n1      []  [{'series': [], 'workID': 459861, 'workGroupID...     []   \n2      []  [{'series': [], 'workID': 459460, 'workGroupID...     []   \n3      []  [{'series': [], 'workID': 459580, 'workGroupID...     []   \n4      []  [{'series': [], 'workID': 462497, 'workGroupID...     []   \n\n                                              series  \\\n0                                                 []   \n1  [{'SeriesName': 'Holiday Pops Concerts', 'Seri...   \n2  [{'SeriesName': 'Boston Pops Concerts', 'Serie...   \n3  [{'SeriesName': 'Holiday Pops Concerts', 'Seri...   \n4                                                 []   \n\n                                  eventProgramTitles  \\\n0  [{'EventTitle': ''}, {'EventTitle': ''}, {'Eve...   \n1  [{'EventTitle': ''}, {'EventTitle': ''}, {'Eve...   \n2  [{'EventTitle': 'Sensory Friendly Concert'}, {...   \n3  [{'EventTitle': ''}, {'EventTitle': ''}, {'Eve...   \n4                               [{'EventTitle': ''}]   \n\n          EventProgramTitle  EventID  EventProgramNo            EventDate  \\\n0                             103817               0  2023-06-01T00:00:00   \n1                             103952               0  2022-12-10T00:00:00   \n2  Sensory Friendly Concert   102856               0  2022-12-03T00:00:00   \n3                             103986               0  2022-12-10T00:00:00   \n4                             104420               0  2023-05-27T00:00:00   \n\n        SeasonTitle  ...                    DetailLink ProgramBookLink  \\\n0  2022-2023 Season  ...  Detail.aspx?UniqueKey=103817                   \n1  2022-2023 Season  ...  Detail.aspx?UniqueKey=103952                   \n2  2022-2023 Season  ...  Detail.aspx?UniqueKey=102856                   \n3  2022-2023 Season  ...  Detail.aspx?UniqueKey=103986                   \n4  2022-2023 Season  ...  Detail.aspx?UniqueKey=104420                   \n\n  conductor.ConductorFullName     venue.VenueLocation venue.VenueCity  \\\n0              Keith Lockhart      Boston, MA, U.S.A.          Boston   \n1                James Burton      Boston, MA, U.S.A.          Boston   \n2              Keith Lockhart      Boston, MA, U.S.A.          Boston   \n3              Keith Lockhart  Manchester, NH, U.S.A.      Manchester   \n4              Keith Lockhart      Boston, MA, U.S.A.          Boston   \n\n  venue.VenueState venue.VenueCountry venue.VenueName  \\\n0               MA             U.S.A.   Symphony Hall   \n1               MA             U.S.A.   Symphony Hall   \n2               MA             U.S.A.   Symphony Hall   \n3               NH             U.S.A.      SNHU Arena   \n4               MA             U.S.A.   Symphony Hall   \n\n           orchestra.OrchestraName season.SeasonName  \n0            Boston Pops Orchestra  2022-2023 Season  \n1            Boston Pops Orchestra  2022-2023 Season  \n2            Boston Pops Orchestra  2022-2023 Season  \n3  Boston Pops Esplanade Orchestra  2022-2023 Season  \n4            Boston Pops Orchestra  2022-2023 Season  \n\n[5 rows x 23 columns]",
      "text/html": "<div>\n<style scoped>\n    .dataframe tbody tr th:only-of-type {\n        vertical-align: middle;\n    }\n\n    .dataframe tbody tr th {\n        vertical-align: top;\n    }\n\n    .dataframe thead th {\n        text-align: right;\n    }\n</style>\n<table border=\"1\" class=\"dataframe\">\n  <thead>\n    <tr style=\"text-align: right;\">\n      <th></th>\n      <th>artists</th>\n      <th>works</th>\n      <th>events</th>\n      <th>series</th>\n      <th>eventProgramTitles</th>\n      <th>EventProgramTitle</th>\n      <th>EventID</th>\n      <th>EventProgramNo</th>\n      <th>EventDate</th>\n      <th>SeasonTitle</th>\n      <th>...</th>\n      <th>DetailLink</th>\n      <th>ProgramBookLink</th>\n      <th>conductor.ConductorFullName</th>\n      <th>venue.VenueLocation</th>\n      <th>venue.VenueCity</th>\n      <th>venue.VenueState</th>\n      <th>venue.VenueCountry</th>\n      <th>venue.VenueName</th>\n      <th>orchestra.OrchestraName</th>\n      <th>season.SeasonName</th>\n    </tr>\n  </thead>\n  <tbody>\n    <tr>\n      <th>0</th>\n      <td>[]</td>\n      <td>[{'series': [], 'workID': 465543, 'workGroupID...</td>\n      <td>[]</td>\n      <td>[]</td>\n      <td>[{'EventTitle': ''}, {'EventTitle': ''}, {'Eve...</td>\n      <td></td>\n      <td>103817</td>\n      <td>0</td>\n      <td>2023-06-01T00:00:00</td>\n      <td>2022-2023 Season</td>\n      <td>...</td>\n      <td>Detail.aspx?UniqueKey=103817</td>\n      <td></td>\n      <td>Keith Lockhart</td>\n      <td>Boston, MA, U.S.A.</td>\n      <td>Boston</td>\n      <td>MA</td>\n      <td>U.S.A.</td>\n      <td>Symphony Hall</td>\n      <td>Boston Pops Orchestra</td>\n      <td>2022-2023 Season</td>\n    </tr>\n    <tr>\n      <th>1</th>\n      <td>[]</td>\n      <td>[{'series': [], 'workID': 459861, 'workGroupID...</td>\n      <td>[]</td>\n      <td>[{'SeriesName': 'Holiday Pops Concerts', 'Seri...</td>\n      <td>[{'EventTitle': ''}, {'EventTitle': ''}, {'Eve...</td>\n      <td></td>\n      <td>103952</td>\n      <td>0</td>\n      <td>2022-12-10T00:00:00</td>\n      <td>2022-2023 Season</td>\n      <td>...</td>\n      <td>Detail.aspx?UniqueKey=103952</td>\n      <td></td>\n      <td>James Burton</td>\n      <td>Boston, MA, U.S.A.</td>\n      <td>Boston</td>\n      <td>MA</td>\n      <td>U.S.A.</td>\n      <td>Symphony Hall</td>\n      <td>Boston Pops Orchestra</td>\n      <td>2022-2023 Season</td>\n    </tr>\n    <tr>\n      <th>2</th>\n      <td>[]</td>\n      <td>[{'series': [], 'workID': 459460, 'workGroupID...</td>\n      <td>[]</td>\n      <td>[{'SeriesName': 'Boston Pops Concerts', 'Serie...</td>\n      <td>[{'EventTitle': 'Sensory Friendly Concert'}, {...</td>\n      <td>Sensory Friendly Concert</td>\n      <td>102856</td>\n      <td>0</td>\n      <td>2022-12-03T00:00:00</td>\n      <td>2022-2023 Season</td>\n      <td>...</td>\n      <td>Detail.aspx?UniqueKey=102856</td>\n      <td></td>\n      <td>Keith Lockhart</td>\n      <td>Boston, MA, U.S.A.</td>\n      <td>Boston</td>\n      <td>MA</td>\n      <td>U.S.A.</td>\n      <td>Symphony Hall</td>\n      <td>Boston Pops Orchestra</td>\n      <td>2022-2023 Season</td>\n    </tr>\n    <tr>\n      <th>3</th>\n      <td>[]</td>\n      <td>[{'series': [], 'workID': 459580, 'workGroupID...</td>\n      <td>[]</td>\n      <td>[{'SeriesName': 'Holiday Pops Concerts', 'Seri...</td>\n      <td>[{'EventTitle': ''}, {'EventTitle': ''}, {'Eve...</td>\n      <td></td>\n      <td>103986</td>\n      <td>0</td>\n      <td>2022-12-10T00:00:00</td>\n      <td>2022-2023 Season</td>\n      <td>...</td>\n      <td>Detail.aspx?UniqueKey=103986</td>\n      <td></td>\n      <td>Keith Lockhart</td>\n      <td>Manchester, NH, U.S.A.</td>\n      <td>Manchester</td>\n      <td>NH</td>\n      <td>U.S.A.</td>\n      <td>SNHU Arena</td>\n      <td>Boston Pops Esplanade Orchestra</td>\n      <td>2022-2023 Season</td>\n    </tr>\n    <tr>\n      <th>4</th>\n      <td>[]</td>\n      <td>[{'series': [], 'workID': 462497, 'workGroupID...</td>\n      <td>[]</td>\n      <td>[]</td>\n      <td>[{'EventTitle': ''}]</td>\n      <td></td>\n      <td>104420</td>\n      <td>0</td>\n      <td>2023-05-27T00:00:00</td>\n      <td>2022-2023 Season</td>\n      <td>...</td>\n      <td>Detail.aspx?UniqueKey=104420</td>\n      <td></td>\n      <td>Keith Lockhart</td>\n      <td>Boston, MA, U.S.A.</td>\n      <td>Boston</td>\n      <td>MA</td>\n      <td>U.S.A.</td>\n      <td>Symphony Hall</td>\n      <td>Boston Pops Orchestra</td>\n      <td>2022-2023 Season</td>\n    </tr>\n  </tbody>\n</table>\n<p>5 rows × 23 columns</p>\n</div>"
     },
     "execution_count": 8,
     "metadata": {},
     "output_type": "execute_result"
    }
   ],
   "source": [
    "with open(\"BSO_Data/sample_data/bso_out_1.json\") as f:\n",
    "    d = json.load(f)\n",
    "\n",
    "df = pd.json_normalize(d, record_path=[\"Results\"])\n",
    "df.head()"
   ],
   "metadata": {
    "collapsed": false,
    "ExecuteTime": {
     "end_time": "2024-02-15T04:30:26.753412Z",
     "start_time": "2024-02-15T04:30:26.689220Z"
    }
   }
  },
  {
   "cell_type": "code",
   "execution_count": null,
   "outputs": [],
   "source": [],
   "metadata": {
    "collapsed": false
   }
  }
 ],
 "metadata": {
  "kernelspec": {
   "display_name": "Python 3",
   "language": "python",
   "name": "python3"
  },
  "language_info": {
   "codemirror_mode": {
    "name": "ipython",
    "version": 2
   },
   "file_extension": ".py",
   "mimetype": "text/x-python",
   "name": "python",
   "nbconvert_exporter": "python",
   "pygments_lexer": "ipython2",
   "version": "2.7.6"
  }
 },
 "nbformat": 4,
 "nbformat_minor": 0
}
