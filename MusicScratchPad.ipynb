{
 "cells": [
  {
   "cell_type": "code",
   "execution_count": 1,
   "metadata": {
    "collapsed": true,
    "ExecuteTime": {
     "end_time": "2024-04-22T01:49:33.840123Z",
     "start_time": "2024-04-22T01:49:31.734607Z"
    }
   },
   "outputs": [
    {
     "data": {
      "text/plain": "                                             Results\n0  {'artists': [], 'works': [{'series': [], 'work...\n1  {'artists': [], 'works': [{'series': [], 'work...\n2  {'artists': [], 'works': [{'series': [], 'work...\n3  {'artists': [], 'works': [{'series': [], 'work...\n4  {'artists': [], 'works': [{'series': [], 'work...",
      "text/html": "<div>\n<style scoped>\n    .dataframe tbody tr th:only-of-type {\n        vertical-align: middle;\n    }\n\n    .dataframe tbody tr th {\n        vertical-align: top;\n    }\n\n    .dataframe thead th {\n        text-align: right;\n    }\n</style>\n<table border=\"1\" class=\"dataframe\">\n  <thead>\n    <tr style=\"text-align: right;\">\n      <th></th>\n      <th>Results</th>\n    </tr>\n  </thead>\n  <tbody>\n    <tr>\n      <th>0</th>\n      <td>{'artists': [], 'works': [{'series': [], 'work...</td>\n    </tr>\n    <tr>\n      <th>1</th>\n      <td>{'artists': [], 'works': [{'series': [], 'work...</td>\n    </tr>\n    <tr>\n      <th>2</th>\n      <td>{'artists': [], 'works': [{'series': [], 'work...</td>\n    </tr>\n    <tr>\n      <th>3</th>\n      <td>{'artists': [], 'works': [{'series': [], 'work...</td>\n    </tr>\n    <tr>\n      <th>4</th>\n      <td>{'artists': [], 'works': [{'series': [], 'work...</td>\n    </tr>\n  </tbody>\n</table>\n</div>"
     },
     "execution_count": 1,
     "metadata": {},
     "output_type": "execute_result"
    }
   ],
   "source": [
    "import pandas as pd\n",
    "import numpy as np\n",
    "import json\n",
    "\n",
    "df = pd.read_json(\"BSO_Data/sample_data/bso_out_1.json\")\n",
    "df.head()\n",
    "\n",
    "df.drop(columns=\"DebugInfo\", inplace=True)\n",
    "\n",
    "df.head()"
   ]
  },
  {
   "cell_type": "code",
   "execution_count": null,
   "outputs": [],
   "source": [
    "jared = pd.read_json(\"event_data.json\")\n",
    "jared.head()"
   ],
   "metadata": {
    "collapsed": false,
    "is_executing": true,
    "ExecuteTime": {
     "start_time": "2024-04-22T01:50:23.956699Z"
    }
   }
  },
  {
   "cell_type": "code",
   "execution_count": 5,
   "outputs": [
    {
     "data": {
      "text/plain": "  artists                                              works events  \\\n0      []  [{'series': [], 'workID': 465543, 'workGroupID...     []   \n1      []  [{'series': [], 'workID': 459861, 'workGroupID...     []   \n2      []  [{'series': [], 'workID': 459460, 'workGroupID...     []   \n3      []  [{'series': [], 'workID': 459580, 'workGroupID...     []   \n4      []  [{'series': [], 'workID': 462497, 'workGroupID...     []   \n\n                                              series  \\\n0                                                 []   \n1  [{'SeriesName': 'Holiday Pops Concerts', 'Seri...   \n2  [{'SeriesName': 'Boston Pops Concerts', 'Serie...   \n3  [{'SeriesName': 'Holiday Pops Concerts', 'Seri...   \n4                                                 []   \n\n                                  eventProgramTitles  \\\n0  [{'EventTitle': ''}, {'EventTitle': ''}, {'Eve...   \n1  [{'EventTitle': ''}, {'EventTitle': ''}, {'Eve...   \n2  [{'EventTitle': 'Sensory Friendly Concert'}, {...   \n3  [{'EventTitle': ''}, {'EventTitle': ''}, {'Eve...   \n4                               [{'EventTitle': ''}]   \n\n          EventProgramTitle  EventID  EventProgramNo            EventDate  \\\n0                             103817               0  2023-06-01T00:00:00   \n1                             103952               0  2022-12-10T00:00:00   \n2  Sensory Friendly Concert   102856               0  2022-12-03T00:00:00   \n3                             103986               0  2022-12-10T00:00:00   \n4                             104420               0  2023-05-27T00:00:00   \n\n        SeasonTitle  ...                    DetailLink ProgramBookLink  \\\n0  2022-2023 Season  ...  Detail.aspx?UniqueKey=103817                   \n1  2022-2023 Season  ...  Detail.aspx?UniqueKey=103952                   \n2  2022-2023 Season  ...  Detail.aspx?UniqueKey=102856                   \n3  2022-2023 Season  ...  Detail.aspx?UniqueKey=103986                   \n4  2022-2023 Season  ...  Detail.aspx?UniqueKey=104420                   \n\n  conductor.ConductorFullName     venue.VenueLocation venue.VenueCity  \\\n0              Keith Lockhart      Boston, MA, U.S.A.          Boston   \n1                James Burton      Boston, MA, U.S.A.          Boston   \n2              Keith Lockhart      Boston, MA, U.S.A.          Boston   \n3              Keith Lockhart  Manchester, NH, U.S.A.      Manchester   \n4              Keith Lockhart      Boston, MA, U.S.A.          Boston   \n\n  venue.VenueState venue.VenueCountry venue.VenueName  \\\n0               MA             U.S.A.   Symphony Hall   \n1               MA             U.S.A.   Symphony Hall   \n2               MA             U.S.A.   Symphony Hall   \n3               NH             U.S.A.      SNHU Arena   \n4               MA             U.S.A.   Symphony Hall   \n\n           orchestra.OrchestraName season.SeasonName  \n0            Boston Pops Orchestra  2022-2023 Season  \n1            Boston Pops Orchestra  2022-2023 Season  \n2            Boston Pops Orchestra  2022-2023 Season  \n3  Boston Pops Esplanade Orchestra  2022-2023 Season  \n4            Boston Pops Orchestra  2022-2023 Season  \n\n[5 rows x 23 columns]",
      "text/html": "<div>\n<style scoped>\n    .dataframe tbody tr th:only-of-type {\n        vertical-align: middle;\n    }\n\n    .dataframe tbody tr th {\n        vertical-align: top;\n    }\n\n    .dataframe thead th {\n        text-align: right;\n    }\n</style>\n<table border=\"1\" class=\"dataframe\">\n  <thead>\n    <tr style=\"text-align: right;\">\n      <th></th>\n      <th>artists</th>\n      <th>works</th>\n      <th>events</th>\n      <th>series</th>\n      <th>eventProgramTitles</th>\n      <th>EventProgramTitle</th>\n      <th>EventID</th>\n      <th>EventProgramNo</th>\n      <th>EventDate</th>\n      <th>SeasonTitle</th>\n      <th>...</th>\n      <th>DetailLink</th>\n      <th>ProgramBookLink</th>\n      <th>conductor.ConductorFullName</th>\n      <th>venue.VenueLocation</th>\n      <th>venue.VenueCity</th>\n      <th>venue.VenueState</th>\n      <th>venue.VenueCountry</th>\n      <th>venue.VenueName</th>\n      <th>orchestra.OrchestraName</th>\n      <th>season.SeasonName</th>\n    </tr>\n  </thead>\n  <tbody>\n    <tr>\n      <th>0</th>\n      <td>[]</td>\n      <td>[{'series': [], 'workID': 465543, 'workGroupID...</td>\n      <td>[]</td>\n      <td>[]</td>\n      <td>[{'EventTitle': ''}, {'EventTitle': ''}, {'Eve...</td>\n      <td></td>\n      <td>103817</td>\n      <td>0</td>\n      <td>2023-06-01T00:00:00</td>\n      <td>2022-2023 Season</td>\n      <td>...</td>\n      <td>Detail.aspx?UniqueKey=103817</td>\n      <td></td>\n      <td>Keith Lockhart</td>\n      <td>Boston, MA, U.S.A.</td>\n      <td>Boston</td>\n      <td>MA</td>\n      <td>U.S.A.</td>\n      <td>Symphony Hall</td>\n      <td>Boston Pops Orchestra</td>\n      <td>2022-2023 Season</td>\n    </tr>\n    <tr>\n      <th>1</th>\n      <td>[]</td>\n      <td>[{'series': [], 'workID': 459861, 'workGroupID...</td>\n      <td>[]</td>\n      <td>[{'SeriesName': 'Holiday Pops Concerts', 'Seri...</td>\n      <td>[{'EventTitle': ''}, {'EventTitle': ''}, {'Eve...</td>\n      <td></td>\n      <td>103952</td>\n      <td>0</td>\n      <td>2022-12-10T00:00:00</td>\n      <td>2022-2023 Season</td>\n      <td>...</td>\n      <td>Detail.aspx?UniqueKey=103952</td>\n      <td></td>\n      <td>James Burton</td>\n      <td>Boston, MA, U.S.A.</td>\n      <td>Boston</td>\n      <td>MA</td>\n      <td>U.S.A.</td>\n      <td>Symphony Hall</td>\n      <td>Boston Pops Orchestra</td>\n      <td>2022-2023 Season</td>\n    </tr>\n    <tr>\n      <th>2</th>\n      <td>[]</td>\n      <td>[{'series': [], 'workID': 459460, 'workGroupID...</td>\n      <td>[]</td>\n      <td>[{'SeriesName': 'Boston Pops Concerts', 'Serie...</td>\n      <td>[{'EventTitle': 'Sensory Friendly Concert'}, {...</td>\n      <td>Sensory Friendly Concert</td>\n      <td>102856</td>\n      <td>0</td>\n      <td>2022-12-03T00:00:00</td>\n      <td>2022-2023 Season</td>\n      <td>...</td>\n      <td>Detail.aspx?UniqueKey=102856</td>\n      <td></td>\n      <td>Keith Lockhart</td>\n      <td>Boston, MA, U.S.A.</td>\n      <td>Boston</td>\n      <td>MA</td>\n      <td>U.S.A.</td>\n      <td>Symphony Hall</td>\n      <td>Boston Pops Orchestra</td>\n      <td>2022-2023 Season</td>\n    </tr>\n    <tr>\n      <th>3</th>\n      <td>[]</td>\n      <td>[{'series': [], 'workID': 459580, 'workGroupID...</td>\n      <td>[]</td>\n      <td>[{'SeriesName': 'Holiday Pops Concerts', 'Seri...</td>\n      <td>[{'EventTitle': ''}, {'EventTitle': ''}, {'Eve...</td>\n      <td></td>\n      <td>103986</td>\n      <td>0</td>\n      <td>2022-12-10T00:00:00</td>\n      <td>2022-2023 Season</td>\n      <td>...</td>\n      <td>Detail.aspx?UniqueKey=103986</td>\n      <td></td>\n      <td>Keith Lockhart</td>\n      <td>Manchester, NH, U.S.A.</td>\n      <td>Manchester</td>\n      <td>NH</td>\n      <td>U.S.A.</td>\n      <td>SNHU Arena</td>\n      <td>Boston Pops Esplanade Orchestra</td>\n      <td>2022-2023 Season</td>\n    </tr>\n    <tr>\n      <th>4</th>\n      <td>[]</td>\n      <td>[{'series': [], 'workID': 462497, 'workGroupID...</td>\n      <td>[]</td>\n      <td>[]</td>\n      <td>[{'EventTitle': ''}]</td>\n      <td></td>\n      <td>104420</td>\n      <td>0</td>\n      <td>2023-05-27T00:00:00</td>\n      <td>2022-2023 Season</td>\n      <td>...</td>\n      <td>Detail.aspx?UniqueKey=104420</td>\n      <td></td>\n      <td>Keith Lockhart</td>\n      <td>Boston, MA, U.S.A.</td>\n      <td>Boston</td>\n      <td>MA</td>\n      <td>U.S.A.</td>\n      <td>Symphony Hall</td>\n      <td>Boston Pops Orchestra</td>\n      <td>2022-2023 Season</td>\n    </tr>\n  </tbody>\n</table>\n<p>5 rows × 23 columns</p>\n</div>"
     },
     "execution_count": 5,
     "metadata": {},
     "output_type": "execute_result"
    }
   ],
   "source": [
    "with open(\"BSO_Data/sample_data/bso_out_1.json\") as f:\n",
    "    d = json.load(f)\n",
    "\n",
    "df = pd.json_normalize(d, record_path=[\"Results\"])\n",
    "df.head()"
   ],
   "metadata": {
    "collapsed": false,
    "ExecuteTime": {
     "end_time": "2024-03-26T03:51:00.636368Z",
     "start_time": "2024-03-26T03:51:00.568570Z"
    }
   }
  },
  {
   "cell_type": "code",
   "execution_count": 4,
   "outputs": [
    {
     "ename": "FileNotFoundError",
     "evalue": "File fullhistory.json does not exist",
     "output_type": "error",
     "traceback": [
      "\u001B[0;31m---------------------------------------------------------------------------\u001B[0m",
      "\u001B[0;31mFileNotFoundError\u001B[0m                         Traceback (most recent call last)",
      "Cell \u001B[0;32mIn[4], line 1\u001B[0m\n\u001B[0;32m----> 1\u001B[0m df \u001B[38;5;241m=\u001B[39m \u001B[43mpd\u001B[49m\u001B[38;5;241;43m.\u001B[39;49m\u001B[43mread_json\u001B[49m\u001B[43m(\u001B[49m\u001B[38;5;124;43m\"\u001B[39;49m\u001B[38;5;124;43mfullhistory.json\u001B[39;49m\u001B[38;5;124;43m\"\u001B[39;49m\u001B[43m)\u001B[49m\n\u001B[1;32m      2\u001B[0m df\u001B[38;5;241m.\u001B[39mexplode(\u001B[38;5;124m\"\u001B[39m\u001B[38;5;124mworks\u001B[39m\u001B[38;5;124m\"\u001B[39m)\n\u001B[1;32m      3\u001B[0m df\u001B[38;5;241m.\u001B[39mhead()\n",
      "File \u001B[0;32m~/PycharmProjects/MusicData/venv/lib/python3.10/site-packages/pandas/io/json/_json.py:791\u001B[0m, in \u001B[0;36mread_json\u001B[0;34m(path_or_buf, orient, typ, dtype, convert_axes, convert_dates, keep_default_dates, precise_float, date_unit, encoding, encoding_errors, lines, chunksize, compression, nrows, storage_options, dtype_backend, engine)\u001B[0m\n\u001B[1;32m    788\u001B[0m \u001B[38;5;28;01mif\u001B[39;00m convert_axes \u001B[38;5;129;01mis\u001B[39;00m \u001B[38;5;28;01mNone\u001B[39;00m \u001B[38;5;129;01mand\u001B[39;00m orient \u001B[38;5;241m!=\u001B[39m \u001B[38;5;124m\"\u001B[39m\u001B[38;5;124mtable\u001B[39m\u001B[38;5;124m\"\u001B[39m:\n\u001B[1;32m    789\u001B[0m     convert_axes \u001B[38;5;241m=\u001B[39m \u001B[38;5;28;01mTrue\u001B[39;00m\n\u001B[0;32m--> 791\u001B[0m json_reader \u001B[38;5;241m=\u001B[39m \u001B[43mJsonReader\u001B[49m\u001B[43m(\u001B[49m\n\u001B[1;32m    792\u001B[0m \u001B[43m    \u001B[49m\u001B[43mpath_or_buf\u001B[49m\u001B[43m,\u001B[49m\n\u001B[1;32m    793\u001B[0m \u001B[43m    \u001B[49m\u001B[43morient\u001B[49m\u001B[38;5;241;43m=\u001B[39;49m\u001B[43morient\u001B[49m\u001B[43m,\u001B[49m\n\u001B[1;32m    794\u001B[0m \u001B[43m    \u001B[49m\u001B[43mtyp\u001B[49m\u001B[38;5;241;43m=\u001B[39;49m\u001B[43mtyp\u001B[49m\u001B[43m,\u001B[49m\n\u001B[1;32m    795\u001B[0m \u001B[43m    \u001B[49m\u001B[43mdtype\u001B[49m\u001B[38;5;241;43m=\u001B[39;49m\u001B[43mdtype\u001B[49m\u001B[43m,\u001B[49m\n\u001B[1;32m    796\u001B[0m \u001B[43m    \u001B[49m\u001B[43mconvert_axes\u001B[49m\u001B[38;5;241;43m=\u001B[39;49m\u001B[43mconvert_axes\u001B[49m\u001B[43m,\u001B[49m\n\u001B[1;32m    797\u001B[0m \u001B[43m    \u001B[49m\u001B[43mconvert_dates\u001B[49m\u001B[38;5;241;43m=\u001B[39;49m\u001B[43mconvert_dates\u001B[49m\u001B[43m,\u001B[49m\n\u001B[1;32m    798\u001B[0m \u001B[43m    \u001B[49m\u001B[43mkeep_default_dates\u001B[49m\u001B[38;5;241;43m=\u001B[39;49m\u001B[43mkeep_default_dates\u001B[49m\u001B[43m,\u001B[49m\n\u001B[1;32m    799\u001B[0m \u001B[43m    \u001B[49m\u001B[43mprecise_float\u001B[49m\u001B[38;5;241;43m=\u001B[39;49m\u001B[43mprecise_float\u001B[49m\u001B[43m,\u001B[49m\n\u001B[1;32m    800\u001B[0m \u001B[43m    \u001B[49m\u001B[43mdate_unit\u001B[49m\u001B[38;5;241;43m=\u001B[39;49m\u001B[43mdate_unit\u001B[49m\u001B[43m,\u001B[49m\n\u001B[1;32m    801\u001B[0m \u001B[43m    \u001B[49m\u001B[43mencoding\u001B[49m\u001B[38;5;241;43m=\u001B[39;49m\u001B[43mencoding\u001B[49m\u001B[43m,\u001B[49m\n\u001B[1;32m    802\u001B[0m \u001B[43m    \u001B[49m\u001B[43mlines\u001B[49m\u001B[38;5;241;43m=\u001B[39;49m\u001B[43mlines\u001B[49m\u001B[43m,\u001B[49m\n\u001B[1;32m    803\u001B[0m \u001B[43m    \u001B[49m\u001B[43mchunksize\u001B[49m\u001B[38;5;241;43m=\u001B[39;49m\u001B[43mchunksize\u001B[49m\u001B[43m,\u001B[49m\n\u001B[1;32m    804\u001B[0m \u001B[43m    \u001B[49m\u001B[43mcompression\u001B[49m\u001B[38;5;241;43m=\u001B[39;49m\u001B[43mcompression\u001B[49m\u001B[43m,\u001B[49m\n\u001B[1;32m    805\u001B[0m \u001B[43m    \u001B[49m\u001B[43mnrows\u001B[49m\u001B[38;5;241;43m=\u001B[39;49m\u001B[43mnrows\u001B[49m\u001B[43m,\u001B[49m\n\u001B[1;32m    806\u001B[0m \u001B[43m    \u001B[49m\u001B[43mstorage_options\u001B[49m\u001B[38;5;241;43m=\u001B[39;49m\u001B[43mstorage_options\u001B[49m\u001B[43m,\u001B[49m\n\u001B[1;32m    807\u001B[0m \u001B[43m    \u001B[49m\u001B[43mencoding_errors\u001B[49m\u001B[38;5;241;43m=\u001B[39;49m\u001B[43mencoding_errors\u001B[49m\u001B[43m,\u001B[49m\n\u001B[1;32m    808\u001B[0m \u001B[43m    \u001B[49m\u001B[43mdtype_backend\u001B[49m\u001B[38;5;241;43m=\u001B[39;49m\u001B[43mdtype_backend\u001B[49m\u001B[43m,\u001B[49m\n\u001B[1;32m    809\u001B[0m \u001B[43m    \u001B[49m\u001B[43mengine\u001B[49m\u001B[38;5;241;43m=\u001B[39;49m\u001B[43mengine\u001B[49m\u001B[43m,\u001B[49m\n\u001B[1;32m    810\u001B[0m \u001B[43m\u001B[49m\u001B[43m)\u001B[49m\n\u001B[1;32m    812\u001B[0m \u001B[38;5;28;01mif\u001B[39;00m chunksize:\n\u001B[1;32m    813\u001B[0m     \u001B[38;5;28;01mreturn\u001B[39;00m json_reader\n",
      "File \u001B[0;32m~/PycharmProjects/MusicData/venv/lib/python3.10/site-packages/pandas/io/json/_json.py:904\u001B[0m, in \u001B[0;36mJsonReader.__init__\u001B[0;34m(self, filepath_or_buffer, orient, typ, dtype, convert_axes, convert_dates, keep_default_dates, precise_float, date_unit, encoding, lines, chunksize, compression, nrows, storage_options, encoding_errors, dtype_backend, engine)\u001B[0m\n\u001B[1;32m    902\u001B[0m     \u001B[38;5;28mself\u001B[39m\u001B[38;5;241m.\u001B[39mdata \u001B[38;5;241m=\u001B[39m filepath_or_buffer\n\u001B[1;32m    903\u001B[0m \u001B[38;5;28;01melif\u001B[39;00m \u001B[38;5;28mself\u001B[39m\u001B[38;5;241m.\u001B[39mengine \u001B[38;5;241m==\u001B[39m \u001B[38;5;124m\"\u001B[39m\u001B[38;5;124mujson\u001B[39m\u001B[38;5;124m\"\u001B[39m:\n\u001B[0;32m--> 904\u001B[0m     data \u001B[38;5;241m=\u001B[39m \u001B[38;5;28;43mself\u001B[39;49m\u001B[38;5;241;43m.\u001B[39;49m\u001B[43m_get_data_from_filepath\u001B[49m\u001B[43m(\u001B[49m\u001B[43mfilepath_or_buffer\u001B[49m\u001B[43m)\u001B[49m\n\u001B[1;32m    905\u001B[0m     \u001B[38;5;28mself\u001B[39m\u001B[38;5;241m.\u001B[39mdata \u001B[38;5;241m=\u001B[39m \u001B[38;5;28mself\u001B[39m\u001B[38;5;241m.\u001B[39m_preprocess_data(data)\n",
      "File \u001B[0;32m~/PycharmProjects/MusicData/venv/lib/python3.10/site-packages/pandas/io/json/_json.py:960\u001B[0m, in \u001B[0;36mJsonReader._get_data_from_filepath\u001B[0;34m(self, filepath_or_buffer)\u001B[0m\n\u001B[1;32m    952\u001B[0m     filepath_or_buffer \u001B[38;5;241m=\u001B[39m \u001B[38;5;28mself\u001B[39m\u001B[38;5;241m.\u001B[39mhandles\u001B[38;5;241m.\u001B[39mhandle\n\u001B[1;32m    953\u001B[0m \u001B[38;5;28;01melif\u001B[39;00m (\n\u001B[1;32m    954\u001B[0m     \u001B[38;5;28misinstance\u001B[39m(filepath_or_buffer, \u001B[38;5;28mstr\u001B[39m)\n\u001B[1;32m    955\u001B[0m     \u001B[38;5;129;01mand\u001B[39;00m filepath_or_buffer\u001B[38;5;241m.\u001B[39mlower()\u001B[38;5;241m.\u001B[39mendswith(\n\u001B[0;32m   (...)\u001B[0m\n\u001B[1;32m    958\u001B[0m     \u001B[38;5;129;01mand\u001B[39;00m \u001B[38;5;129;01mnot\u001B[39;00m file_exists(filepath_or_buffer)\n\u001B[1;32m    959\u001B[0m ):\n\u001B[0;32m--> 960\u001B[0m     \u001B[38;5;28;01mraise\u001B[39;00m \u001B[38;5;167;01mFileNotFoundError\u001B[39;00m(\u001B[38;5;124mf\u001B[39m\u001B[38;5;124m\"\u001B[39m\u001B[38;5;124mFile \u001B[39m\u001B[38;5;132;01m{\u001B[39;00mfilepath_or_buffer\u001B[38;5;132;01m}\u001B[39;00m\u001B[38;5;124m does not exist\u001B[39m\u001B[38;5;124m\"\u001B[39m)\n\u001B[1;32m    961\u001B[0m \u001B[38;5;28;01melse\u001B[39;00m:\n\u001B[1;32m    962\u001B[0m     warnings\u001B[38;5;241m.\u001B[39mwarn(\n\u001B[1;32m    963\u001B[0m         \u001B[38;5;124m\"\u001B[39m\u001B[38;5;124mPassing literal json to \u001B[39m\u001B[38;5;124m'\u001B[39m\u001B[38;5;124mread_json\u001B[39m\u001B[38;5;124m'\u001B[39m\u001B[38;5;124m is deprecated and \u001B[39m\u001B[38;5;124m\"\u001B[39m\n\u001B[1;32m    964\u001B[0m         \u001B[38;5;124m\"\u001B[39m\u001B[38;5;124mwill be removed in a future version. To read from a \u001B[39m\u001B[38;5;124m\"\u001B[39m\n\u001B[0;32m   (...)\u001B[0m\n\u001B[1;32m    967\u001B[0m         stacklevel\u001B[38;5;241m=\u001B[39mfind_stack_level(),\n\u001B[1;32m    968\u001B[0m     )\n",
      "\u001B[0;31mFileNotFoundError\u001B[0m: File fullhistory.json does not exist"
     ]
    }
   ],
   "source": [
    "\n"
   ],
   "metadata": {
    "collapsed": false,
    "ExecuteTime": {
     "end_time": "2024-03-21T02:14:19.823812Z",
     "start_time": "2024-03-21T02:14:19.713972Z"
    }
   }
  },
  {
   "cell_type": "code",
   "execution_count": 6,
   "outputs": [
    {
     "name": "stdout",
     "output_type": "stream",
     "text": [
      "506 - Johannes Brahms, Symphony No.   2 in D major, Op. 73\n",
      "496 - Ludwig van Beethoven, Symphony No.  7 in A major, Op. 92\n",
      "486 - Ludwig van Beethoven, Symphony No.  5 in C minor, Op. 67\n",
      "483 - Ludwig van Beethoven, Symphony No.  3 in E-flat major, Op. 55, \"Eroica\"\n",
      "475 - Johannes Brahms, Symphony No.   1 in C minor, Op. 68\n",
      "423 - Johannes Brahms, Symphony No.   4 in E minor, Op. 98\n",
      "405 - Richard Wagner, Meistersinger: Act 1: Prelude\n",
      "395 - Pyotr Ilyich Tchaikovsky, Symphony No.  6 in B minor, \"Pathétique\"\n",
      "347 - Ludwig van Beethoven, Leonore Overture No. 3, Op. 72b\n",
      "337 - Claude Debussy, Prélude à l'après-midi d'un faune [Afternoon of a Faun]\n",
      "322 - Richard Wagner, Tannhäuser: Overture\n",
      "308 - Maurice Ravel, Daphnis et Chloé: Suite No. 2\n",
      "307 - Richard Strauss, Till Eulenspiegel's Merry Pranks, Op. 28\n",
      "303 - Claude Debussy, Mer, La [The Sea]: Three Symphonic Sketches\n",
      "287 - Ludwig van Beethoven, Symphony No.  6 in F major, Op. 68, \"Pastoral\"\n"
     ]
    }
   ],
   "source": [
    "with open ('FullResults_01.json') as f:\n",
    "    d = json.load(f)\n",
    "\n",
    "df = pd.json_normalize(d)\n",
    "\n",
    "bso_only = df[df['orchestra.OrchestraName'] == \"Boston Symphony Orchestra\"]\n",
    "\n",
    "works_df = pd.json_normalize(bso_only['works'].explode())\n",
    "\n",
    "most_popular = works_df['WorkTitle'].value_counts(ascending=False)[:15]\n",
    "\n",
    "merged_df = pd.merge(most_popular, works_df[['WorkTitle', 'ComposerFullName']], on='WorkTitle', how='left')\n",
    "\n",
    "merged_df = merged_df.drop_duplicates(subset=['WorkTitle'], keep='first')\n",
    "\n",
    "merged_df.head()\n",
    "\n",
    "for index, row in merged_df.iterrows():\n",
    "    print(str(row['count']) + \" - \" + row['ComposerFullName'] + \", \" + row['WorkTitle'])"
   ],
   "metadata": {
    "collapsed": false,
    "ExecuteTime": {
     "end_time": "2024-03-26T03:51:07.587110Z",
     "start_time": "2024-03-26T03:51:04.583923Z"
    }
   }
  },
  {
   "cell_type": "code",
   "execution_count": 81,
   "outputs": [
    {
     "data": {
      "text/plain": "  series  workID  workGroupID  \\\n0     []   84806         5320   \n1     []   84807        11023   \n2     []   84808         5813   \n3     []  163556        20106   \n4     []   84998         5013   \n\n                                           WorkTitle  \\\n0  Symphony No.   3 in E-flat major, Op. 97, \"Rhe...   \n1  Tristan und Isolde: Act 1: Scene 3: Isolde's N...   \n2               Grosse Fuge in B-flat major, Op. 133   \n3  Tristan und Isolde: Prelude and Liebestod with...   \n4                 Symphony No.  4 in F minor, Op. 36   \n\n           ComposerFullName                Arranger  PerformanceCount  \\\n0           Robert Schumann                                         0   \n1            Richard Wagner                                         0   \n2      Ludwig van Beethoven  Paul Felix Weingartner                 0   \n3            Richard Wagner                                         0   \n4  Pyotr Ilyich Tchaikovsky                                         0   \n\n   ConductorCount  SoloistCount  ParticipantCount  ...  WorkLink Series  \\\n0               0             0                 0  ...      None   None   \n1               0             0                 0  ...      None   None   \n2               0             0                 0  ...      None   None   \n3               0             0                 0  ...      None   None   \n4               0             0                 0  ...      None   None   \n\n  WorkNote WorkPremiere Commission Encores  \\\n0     None         None                  0   \n1     None         None                  0   \n2     None         None                  0   \n3     None         None                  0   \n4     None         None                  0   \n\n                                         WorkArtists  \\\n0                                                 []   \n1  [{'work': None, 'artistInstruments': [], 'seri...   \n2                                                 []   \n3  [{'work': None, 'artistInstruments': [], 'seri...   \n4                                                 []   \n\n                                       WorkDocuments       SeasonTitle  \\\n0  [{'WorkDocumentID': 23874, 'WorkDocumentName':...  1916-1917 Season   \n1  [{'WorkDocumentID': 23874, 'WorkDocumentName':...  1916-1917 Season   \n2  [{'WorkDocumentID': 23874, 'WorkDocumentName':...  1916-1917 Season   \n3  [{'WorkDocumentID': 23874, 'WorkDocumentName':...  1916-1917 Season   \n4                                                 []  1916-1917 Season   \n\n  EventDateString  \n0      10-27-1916  \n1      10-27-1916  \n2      10-27-1916  \n3      10-27-1916  \n4      11-19-1916  \n\n[5 rows x 21 columns]",
      "text/html": "<div>\n<style scoped>\n    .dataframe tbody tr th:only-of-type {\n        vertical-align: middle;\n    }\n\n    .dataframe tbody tr th {\n        vertical-align: top;\n    }\n\n    .dataframe thead th {\n        text-align: right;\n    }\n</style>\n<table border=\"1\" class=\"dataframe\">\n  <thead>\n    <tr style=\"text-align: right;\">\n      <th></th>\n      <th>series</th>\n      <th>workID</th>\n      <th>workGroupID</th>\n      <th>WorkTitle</th>\n      <th>ComposerFullName</th>\n      <th>Arranger</th>\n      <th>PerformanceCount</th>\n      <th>ConductorCount</th>\n      <th>SoloistCount</th>\n      <th>ParticipantCount</th>\n      <th>...</th>\n      <th>WorkLink</th>\n      <th>Series</th>\n      <th>WorkNote</th>\n      <th>WorkPremiere</th>\n      <th>Commission</th>\n      <th>Encores</th>\n      <th>WorkArtists</th>\n      <th>WorkDocuments</th>\n      <th>SeasonTitle</th>\n      <th>EventDateString</th>\n    </tr>\n  </thead>\n  <tbody>\n    <tr>\n      <th>0</th>\n      <td>[]</td>\n      <td>84806</td>\n      <td>5320</td>\n      <td>Symphony No.   3 in E-flat major, Op. 97, \"Rhe...</td>\n      <td>Robert Schumann</td>\n      <td></td>\n      <td>0</td>\n      <td>0</td>\n      <td>0</td>\n      <td>0</td>\n      <td>...</td>\n      <td>None</td>\n      <td>None</td>\n      <td>None</td>\n      <td>None</td>\n      <td></td>\n      <td>0</td>\n      <td>[]</td>\n      <td>[{'WorkDocumentID': 23874, 'WorkDocumentName':...</td>\n      <td>1916-1917 Season</td>\n      <td>10-27-1916</td>\n    </tr>\n    <tr>\n      <th>1</th>\n      <td>[]</td>\n      <td>84807</td>\n      <td>11023</td>\n      <td>Tristan und Isolde: Act 1: Scene 3: Isolde's N...</td>\n      <td>Richard Wagner</td>\n      <td></td>\n      <td>0</td>\n      <td>0</td>\n      <td>0</td>\n      <td>0</td>\n      <td>...</td>\n      <td>None</td>\n      <td>None</td>\n      <td>None</td>\n      <td>None</td>\n      <td></td>\n      <td>0</td>\n      <td>[{'work': None, 'artistInstruments': [], 'seri...</td>\n      <td>[{'WorkDocumentID': 23874, 'WorkDocumentName':...</td>\n      <td>1916-1917 Season</td>\n      <td>10-27-1916</td>\n    </tr>\n    <tr>\n      <th>2</th>\n      <td>[]</td>\n      <td>84808</td>\n      <td>5813</td>\n      <td>Grosse Fuge in B-flat major, Op. 133</td>\n      <td>Ludwig van Beethoven</td>\n      <td>Paul Felix Weingartner</td>\n      <td>0</td>\n      <td>0</td>\n      <td>0</td>\n      <td>0</td>\n      <td>...</td>\n      <td>None</td>\n      <td>None</td>\n      <td>None</td>\n      <td>None</td>\n      <td></td>\n      <td>0</td>\n      <td>[]</td>\n      <td>[{'WorkDocumentID': 23874, 'WorkDocumentName':...</td>\n      <td>1916-1917 Season</td>\n      <td>10-27-1916</td>\n    </tr>\n    <tr>\n      <th>3</th>\n      <td>[]</td>\n      <td>163556</td>\n      <td>20106</td>\n      <td>Tristan und Isolde: Prelude and Liebestod with...</td>\n      <td>Richard Wagner</td>\n      <td></td>\n      <td>0</td>\n      <td>0</td>\n      <td>0</td>\n      <td>0</td>\n      <td>...</td>\n      <td>None</td>\n      <td>None</td>\n      <td>None</td>\n      <td>None</td>\n      <td></td>\n      <td>0</td>\n      <td>[{'work': None, 'artistInstruments': [], 'seri...</td>\n      <td>[{'WorkDocumentID': 23874, 'WorkDocumentName':...</td>\n      <td>1916-1917 Season</td>\n      <td>10-27-1916</td>\n    </tr>\n    <tr>\n      <th>4</th>\n      <td>[]</td>\n      <td>84998</td>\n      <td>5013</td>\n      <td>Symphony No.  4 in F minor, Op. 36</td>\n      <td>Pyotr Ilyich Tchaikovsky</td>\n      <td></td>\n      <td>0</td>\n      <td>0</td>\n      <td>0</td>\n      <td>0</td>\n      <td>...</td>\n      <td>None</td>\n      <td>None</td>\n      <td>None</td>\n      <td>None</td>\n      <td></td>\n      <td>0</td>\n      <td>[]</td>\n      <td>[]</td>\n      <td>1916-1917 Season</td>\n      <td>11-19-1916</td>\n    </tr>\n  </tbody>\n</table>\n<p>5 rows × 21 columns</p>\n</div>"
     },
     "execution_count": 81,
     "metadata": {},
     "output_type": "execute_result"
    }
   ],
   "source": [
    "\n",
    "bso_only.head()\n",
    "\n",
    "new_df = pd.json_normalize(d, record_path='works', meta=['SeasonTitle', 'EventDateString'])\n",
    "\n",
    "new_df.head()"
   ],
   "metadata": {
    "collapsed": false,
    "ExecuteTime": {
     "end_time": "2024-03-26T19:13:43.959723Z",
     "start_time": "2024-03-26T19:13:37.038311Z"
    }
   }
  },
  {
   "cell_type": "code",
   "execution_count": 79,
   "outputs": [
    {
     "name": "stdout",
     "output_type": "stream",
     "text": [
      "235-Ludwig van Beethoven, Concerto for Violin in D major, Op. 61\n",
      "209-Johannes Brahms, Concerto for Violin in D major, Op. 77\n",
      "177-Pyotr Ilyich Tchaikovsky, Concerto for Violin in D Major, Op. 35\n",
      "165-Felix Mendelssohn, Concerto for Violin in E minor, Op. 64\n",
      "117-Jean Sibelius, Concerto for Violin in D minor, Op. 47\n",
      "101-Max Bruch, Concerto for Violin No.   1 in G minor, Op. 26\n",
      "81-Gyorgy Ligeti, Concerto for Violin\n",
      "64-Johannes Brahms, Concerto for Violin and Cello in A minor, Op. 102\n",
      "57-Antonin Dvorák, Concerto for Violin in A minor, Op. 53\n",
      "57-Camille Saint-Saëns, Concerto for Violin No.   3 in B minor, Op. 61\n",
      "56-Wolfgang Amadeus Mozart, Concerto for Violin No. 4 in D major, K. 218\n",
      "51-Wolfgang Amadeus Mozart, Concerto for Violin No. 5 in A major, K. 219\n",
      "50-Igor Stravinsky, Concerto for Violin in D major\n",
      "50-Wolfgang Amadeus Mozart, Sinfonia Concertante for Violin and Viola in E-flat major, K. 320d (364)\n",
      "47-Wolfgang Amadeus Mozart, Concerto for Violin No. 3 in G major, K. 216\n",
      "47-Sergei Prokofiev, Concerto for Violin No.   2 in G minor, Op. 63\n",
      "47-Max Bruch, Scottish Fantasy for Violin and Orchestra, Op. 46\n",
      "44-Franz Joseph Haydn, Sinfonia Concertante in B-flat major, H:I:105 (violin, cello, oboe, bassoon), Op. 84\n",
      "44-Alban Berg, Concerto for Violin and Orchestra\n",
      "43-Sergei Prokofiev, Concerto for Violin No.   1 in D major, Op. 19\n",
      "42-Edouard Lalo, Symphonie espagnole [Spanish Symphony] for violin and orchestra, Op. 21\n"
     ]
    }
   ],
   "source": [
    "works_df.head()\n",
    "\n",
    "work_set = set()\n",
    "for idx, row in works_df.iterrows():\n",
    "\n",
    "    workName = row['WorkTitle']\n",
    "    workName_lower = workName.casefold()\n",
    "\n",
    "    if \"violin\" in workName_lower:\n",
    "        work_set.add(workName)\n",
    "\n",
    "title_counts = works_df['WorkTitle'].value_counts()\n",
    "filtered_counts = title_counts[title_counts.index.isin(work_set)]\n",
    "\n",
    "concerto_frame = pd.DataFrame(filtered_counts)\n",
    "\n",
    "concerto_merge = pd.merge(concerto_frame, works_df[['WorkTitle', 'ComposerFullName']], on='WorkTitle', how='left')\n",
    "\n",
    "concerto_merge = concerto_merge.drop_duplicates(subset=['WorkTitle'], keep='first')\n",
    "concerto_merge = concerto_merge.reset_index()\n",
    "\n",
    "for idx, row in concerto_merge.iterrows():\n",
    "    if idx > 20:\n",
    "        break\n",
    "    print(str(row['count']) + '-' + row['ComposerFullName'] + \", \" + row['WorkTitle'])\n"
   ],
   "metadata": {
    "collapsed": false,
    "ExecuteTime": {
     "end_time": "2024-03-26T19:13:28.588006Z",
     "start_time": "2024-03-26T19:13:27.402422Z"
    }
   }
  },
  {
   "cell_type": "code",
   "execution_count": 85,
   "outputs": [
    {
     "name": "stdout",
     "output_type": "stream",
     "text": [
      "Ludwig van Beethoven, Concerto for Violin in D major, Op. 61 01-13-1917 1916-1917 Season\n",
      "Ludwig van Beethoven, Concerto for Violin in D major, Op. 61 01-12-1917 1916-1917 Season\n",
      "Ludwig van Beethoven, Concerto for Violin in D major, Op. 61 10-30-1885 1885-1886 Season\n",
      "Ludwig van Beethoven, Concerto for Violin in D major, Op. 61 12-06-1888 1888-1889 Season\n",
      "Ludwig van Beethoven, Concerto for Violin in D major, Op. 61 11-03-1888 1888-1889 Season\n",
      "Ludwig van Beethoven, Concerto for Violin in D major, Op. 61 11-02-1888 1888-1889 Season\n",
      "Ludwig van Beethoven, Concerto for Violin in D major, Op. 61 01-03-1919 1918-1919 Season\n",
      "Ludwig van Beethoven, Concerto for Violin in D major, Op. 61 01-04-1919 1918-1919 Season\n",
      "Ludwig van Beethoven, Concerto for Violin in D major, Op. 61 12-09-1904 1904-1905 Season\n",
      "Ludwig van Beethoven, Concerto for Violin in D major, Op. 61 02-14-1887 1886-1887 Season\n",
      "Ludwig van Beethoven, Concerto for Violin in D major, Op. 61 02-23-1901 1900-1901 Season\n",
      "Ludwig van Beethoven, Concerto for Violin in D major, Op. 61 02-08-1901 1900-1901 Season\n",
      "Ludwig van Beethoven, Concerto for Violin in D major, Op. 61 02-09-1901 1900-1901 Season\n",
      "Ludwig van Beethoven, Concerto for Violin in D major, Op. 61 11-19-1912 1912-1913 Season\n",
      "Ludwig van Beethoven, Concerto for Violin in D major, Op. 61 11-23-1912 1912-1913 Season\n",
      "Ludwig van Beethoven, Concerto for Violin in D major, Op. 61 11-22-1912 1912-1913 Season\n",
      "Ludwig van Beethoven, Concerto for Violin in D major, Op. 61 12-02-1912 1912-1913 Season\n",
      "Ludwig van Beethoven, Concerto for Violin in D major, Op. 61 12-05-1912 1912-1913 Season\n",
      "Ludwig van Beethoven, Concerto for Violin in D major, Op. 61 01-12-1915 1914-1915 Season\n",
      "Ludwig van Beethoven, Concerto for Violin in D major, Op. 61 01-14-1915 1914-1915 Season\n",
      "Ludwig van Beethoven, Concerto for Violin in D major, Op. 61 11-14-1914 1914-1915 Season\n",
      "Ludwig van Beethoven, Concerto for Violin in D major, Op. 61 11-13-1914 1914-1915 Season\n",
      "Ludwig van Beethoven, Concerto for Violin in D major, Op. 61 01-06-1915 1914-1915 Season\n",
      "Ludwig van Beethoven, Concerto for Violin in D major, Op. 61 01-30-1909 1908-1909 Season\n",
      "Ludwig van Beethoven, Concerto for Violin in D major, Op. 61 11-10-1908 1908-1909 Season\n",
      "Ludwig van Beethoven, Concerto for Violin in D major, Op. 61 01-07-1909 1908-1909 Season\n",
      "Ludwig van Beethoven, Concerto for Violin in D major, Op. 61 04-04-1909 1908-1909 Season\n",
      "Ludwig van Beethoven, Concerto for Violin in D major, Op. 61 01-25-1909 1908-1909 Season\n",
      "Ludwig van Beethoven, Concerto for Violin in D major, Op. 61 01-24-1920 1919-1920 Season\n",
      "Ludwig van Beethoven, Concerto for Violin in D major, Op. 61 11-28-1896 1896-1897 Season\n",
      "Ludwig van Beethoven, Concerto for Violin in D major, Op. 61 12-07-1896 1896-1897 Season\n",
      "Ludwig van Beethoven, Concerto for Violin in D major, Op. 61 12-08-1896 1896-1897 Season\n",
      "Ludwig van Beethoven, Concerto for Violin in D major, Op. 61 12-11-1896 1896-1897 Season\n",
      "Ludwig van Beethoven, Concerto for Violin in D major, Op. 61 11-27-1896 1896-1897 Season\n",
      "Ludwig van Beethoven, Concerto for Violin in D major, Op. 61 01-07-1907 1906-1907 Season\n",
      "Ludwig van Beethoven, Concerto for Violin in D major, Op. 61 02-02-1907 1906-1907 Season\n",
      "Ludwig van Beethoven, Concerto for Violin in D major, Op. 61 01-10-1907 1906-1907 Season\n",
      "Ludwig van Beethoven, Concerto for Violin in D major, Op. 61 12-07-1906 1906-1907 Season\n",
      "Ludwig van Beethoven, Concerto for Violin in D major, Op. 61 12-16-1898 1898-1899 Season\n",
      "Ludwig van Beethoven, Concerto for Violin in D major, Op. 61 12-12-1898 1898-1899 Season\n",
      "Ludwig van Beethoven, Concerto for Violin in D major, Op. 61 03-02-1899 1898-1899 Season\n",
      "Ludwig van Beethoven, Concerto for Violin in D major, Op. 61 12-09-1898 1898-1899 Season\n",
      "Ludwig van Beethoven, Concerto for Violin in D major, Op. 61 12-10-1898 1898-1899 Season\n",
      "Ludwig van Beethoven, Concerto for Violin in D major, Op. 61 12-15-1898 1898-1899 Season\n",
      "Ludwig van Beethoven, Concerto for Violin in D major, Op. 61 02-28-1903 1902-1903 Season\n",
      "Ludwig van Beethoven, Concerto for Violin in D major, Op. 61 03-16-1903 1902-1903 Season\n",
      "Ludwig van Beethoven, Concerto for Violin in D major, Op. 61 02-27-1903 1902-1903 Season\n",
      "Ludwig van Beethoven, Concerto for Violin in D major, Op. 61 10-31-1885 1885-1886 Season\n",
      "Ludwig van Beethoven, Concerto for Violin in D major, Op. 61 10-28-1910 1910-1911 Season\n",
      "Ludwig van Beethoven, Concerto for Violin in D major, Op. 61 03-24-1911 1910-1911 Season\n",
      "Ludwig van Beethoven, Concerto for Violin in D major, Op. 61 10-29-1910 1910-1911 Season\n",
      "Ludwig van Beethoven, Concerto for Violin in D major, Op. 61 03-23-1911 1910-1911 Season\n",
      "Ludwig van Beethoven, Concerto for Violin in D major, Op. 61 02-22-1911 1910-1911 Season\n",
      "Ludwig van Beethoven, Concerto for Violin in D major, Op. 61 01-23-1920 1919-1920 Season\n",
      "Ludwig van Beethoven, Concerto for Violin in D major, Op. 61 01-05-1906 1905-1906 Season\n",
      "Ludwig van Beethoven, Concerto for Violin in D major, Op. 61 01-06-1906 1905-1906 Season\n",
      "Ludwig van Beethoven, Concerto for Violin in D major, Op. 61 12-29-1893 1893-1894 Season\n",
      "Ludwig van Beethoven, Concerto for Violin in D major, Op. 61 12-30-1893 1893-1894 Season\n",
      "Ludwig van Beethoven, Concerto for Violin in D major, Op. 61 02-06-1920 1919-1920 Season\n",
      "Ludwig van Beethoven, Concerto for Violin in D major, Op. 61 10-19-1917 1917-1918 Season\n",
      "Ludwig van Beethoven, Concerto for Violin in D major, Op. 61 10-20-1917 1917-1918 Season\n",
      "Ludwig van Beethoven, Concerto for Violin in D major, Op. 61 12-13-1895 1895-1896 Season\n",
      "Ludwig van Beethoven, Concerto for Violin in D major, Op. 61 12-14-1895 1895-1896 Season\n",
      "Ludwig van Beethoven, Concerto for Violin in D major, Op. 61 02-16-1904 1903-1904 Season\n",
      "Ludwig van Beethoven, Concerto for Violin in D major, Op. 61 02-11-1904 1903-1904 Season\n",
      "Ludwig van Beethoven, Concerto for Violin in D major, Op. 61 02-06-1904 1903-1904 Season\n",
      "Ludwig van Beethoven, Concerto for Violin in D major, Op. 61 02-05-1904 1903-1904 Season\n",
      "Ludwig van Beethoven, Concerto for Violin in D major, Op. 61 02-18-1902 1901-1902 Season\n",
      "Ludwig van Beethoven, Concerto for Violin in D major, Op. 61 01-14-1910 1909-1910 Season\n",
      "Ludwig van Beethoven, Concerto for Violin in D major, Op. 61 01-12-1910 1909-1910 Season\n",
      "Ludwig van Beethoven, Concerto for Violin in D major, Op. 61 02-20-1908 1907-1908 Season\n",
      "Ludwig van Beethoven, Concerto for Violin in D major, Op. 61 12-06-1913 1913-1914 Season\n",
      "Ludwig van Beethoven, Concerto for Violin in D major, Op. 61 01-05-1884 1883-1884 Season\n",
      "Ludwig van Beethoven, Concerto for Violin in D major, Op. 61 01-04-1884 1883-1884 Season\n",
      "Ludwig van Beethoven, Concerto for Violin in D major, Op. 61 04-20-1887 1886-1887 Season\n",
      "Ludwig van Beethoven, Concerto for Violin in D major, Op. 61 11-27-1915 1915-1916 Season\n",
      "Ludwig van Beethoven, Concerto for Violin in D major, Op. 61 11-26-1915 1915-1916 Season\n",
      "Ludwig van Beethoven, Concerto for Violin in D major, Op. 61 11-29-1915 1915-1916 Season\n",
      "Ludwig van Beethoven, Concerto for Violin in D major, Op. 61 12-02-1915 1915-1916 Season\n",
      "Ludwig van Beethoven, Concerto for Violin in D major, Op. 61 07-22-1973 1972-1973 Season\n",
      "Ludwig van Beethoven, Concerto for Violin in D major, Op. 61 07-21-1973 1972-1973 Season\n",
      "Ludwig van Beethoven, Concerto for Violin in D major, Op. 61 04-14-1988 1987-1988 Season\n",
      "Ludwig van Beethoven, Concerto for Violin in D major, Op. 61 04-15-1988 1987-1988 Season\n",
      "Ludwig van Beethoven, Concerto for Violin in D major, Op. 61 04-16-1988 1987-1988 Season\n",
      "Ludwig van Beethoven, Concerto for Violin in D major, Op. 61 08-31-1985 1984-1985 Season\n",
      "Ludwig van Beethoven, Concerto for Violin in D major, Op. 61 07-18-1992 1991-1992 Season\n",
      "Ludwig van Beethoven, Concerto for Violin in D major, Op. 61 08-17-1996 1995-1996 Season\n",
      "Ludwig van Beethoven, Concerto for Violin in D major, Op. 61 08-17-1968 1967-1968 Season\n",
      "Ludwig van Beethoven, Concerto for Violin in D major, Op. 61 11-24-1967 1967-1968 Season\n",
      "Ludwig van Beethoven, Concerto for Violin in D major, Op. 61 08-18-1968 1967-1968 Season\n",
      "Ludwig van Beethoven, Concerto for Violin in D major, Op. 61 11-25-1967 1967-1968 Season\n",
      "Ludwig van Beethoven, Concerto for Violin in D major, Op. 61 07-31-1977 1976-1977 Season\n",
      "Ludwig van Beethoven, Concerto for Violin in D major, Op. 61 07-30-1994 1993-1994 Season\n",
      "Ludwig van Beethoven, Concerto for Violin in D major, Op. 61 04-17-1975 1974-1975 Season\n",
      "Ludwig van Beethoven, Concerto for Violin in D major, Op. 61 04-18-1975 1974-1975 Season\n",
      "Ludwig van Beethoven, Concerto for Violin in D major, Op. 61 04-19-1975 1974-1975 Season\n",
      "Ludwig van Beethoven, Concerto for Violin in D major, Op. 61 07-07-1990 1989-1990 Season\n",
      "Ludwig van Beethoven, Concerto for Violin in D major, Op. 61 07-08-1990 1989-1990 Season\n",
      "Ludwig van Beethoven, Concerto for Violin in D major, Op. 61 04-07-1970 1969-1970 Season\n",
      "Ludwig van Beethoven, Concerto for Violin in D major, Op. 61 07-06-1984 1983-1984 Season\n",
      "Ludwig van Beethoven, Concerto for Violin in D major, Op. 61 11-02-1983 1983-1984 Season\n",
      "Ludwig van Beethoven, Concerto for Violin in D major, Op. 61 06-30-1967 1966-1967 Season\n",
      "Ludwig van Beethoven, Concerto for Violin in D major, Op. 61 08-15-1980 1979-1980 Season\n",
      "Ludwig van Beethoven, Concerto for Violin in D major, Op. 61 12-08-1979 1979-1980 Season\n",
      "Ludwig van Beethoven, Concerto for Violin in D major, Op. 61 12-07-1979 1979-1980 Season\n",
      "Ludwig van Beethoven, Concerto for Violin in D major, Op. 61 12-06-1979 1979-1980 Season\n",
      "Ludwig van Beethoven, Concerto for Violin in D major, Op. 61 08-08-1998 1997-1998 Season\n",
      "Ludwig van Beethoven, Concerto for Violin in D major, Op. 61 08-09-1998 1997-1998 Season\n",
      "Ludwig van Beethoven, Concerto for Violin in D major, Op. 61 07-31-1994 1993-1994 Season\n",
      "Ludwig van Beethoven, Concerto for Violin in D major, Op. 61 07-09-1966 1965-1966 Season\n",
      "Ludwig van Beethoven, Concerto for Violin in D major, Op. 61 12-06-1989 1989-1990 Season\n",
      "Ludwig van Beethoven, Concerto for Violin in D major, Op. 61 12-12-1989 1989-1990 Season\n",
      "Ludwig van Beethoven, Concerto for Violin in D major, Op. 61 11-30-1989 1989-1990 Season\n",
      "Ludwig van Beethoven, Concerto for Violin in D major, Op. 61 12-03-1989 1989-1990 Season\n",
      "Ludwig van Beethoven, Concerto for Violin in D major, Op. 61 01-18-1996 1995-1996 Season\n",
      "Ludwig van Beethoven, Concerto for Violin in D major, Op. 61 01-19-1996 1995-1996 Season\n",
      "Ludwig van Beethoven, Concerto for Violin in D major, Op. 61 01-20-1996 1995-1996 Season\n",
      "Ludwig van Beethoven, Concerto for Violin in D major, Op. 61 01-23-1996 1995-1996 Season\n",
      "Ludwig van Beethoven, Concerto for Violin in D major, Op. 61 07-23-1971 1970-1971 Season\n",
      "Ludwig van Beethoven, Concerto for Violin in D major, Op. 61 08-29-1993 1992-1993 Season\n",
      "Ludwig van Beethoven, Concerto for Violin in D major, Op. 61 08-28-1993 1992-1993 Season\n",
      "Ludwig van Beethoven, Concerto for Violin in D major, Op. 61 12-05-1979 1979-1980 Season\n",
      "Ludwig van Beethoven, Concerto for Violin in D major, Op. 61 11-04-1983 1983-1984 Season\n",
      "Ludwig van Beethoven, Concerto for Violin in D major, Op. 61 11-05-1983 1983-1984 Season\n",
      "Ludwig van Beethoven, Concerto for Violin in D major, Op. 61 11-03-1983 1983-1984 Season\n",
      "Ludwig van Beethoven, Concerto for Violin in D major, Op. 61 11-08-1983 1983-1984 Season\n",
      "Ludwig van Beethoven, Concerto for Violin in D major, Op. 61 07-16-2000 1999-2000 Season\n",
      "Ludwig van Beethoven, Concerto for Violin in D major, Op. 61 07-15-2000 1999-2000 Season\n",
      "Ludwig van Beethoven, Concerto for Violin in D major, Op. 61 07-16-1982 1981-1982 Season\n",
      "Ludwig van Beethoven, Concerto for Violin in D major, Op. 61 07-21-1989 1988-1989 Season\n",
      "Ludwig van Beethoven, Concerto for Violin in D major, Op. 61 01-23-1962 1961-1962 Season\n",
      "Ludwig van Beethoven, Concerto for Violin in D major, Op. 61 01-11-1962 1961-1962 Season\n",
      "Ludwig van Beethoven, Concerto for Violin in D major, Op. 61 01-12-1962 1961-1962 Season\n",
      "Ludwig van Beethoven, Concerto for Violin in D major, Op. 61 01-13-1962 1961-1962 Season\n",
      "Ludwig van Beethoven, Concerto for Violin in D major, Op. 61 01-24-1962 1961-1962 Season\n",
      "Ludwig van Beethoven, Concerto for Violin in D major, Op. 61 01-15-1962 1961-1962 Season\n",
      "Ludwig van Beethoven, Concerto for Violin in D major, Op. 61 06-16-1962 1961-1962 Season\n",
      "Ludwig van Beethoven, Concerto for Violin in D major, Op. 61 01-16-1962 1961-1962 Season\n",
      "Ludwig van Beethoven, Concerto for Violin in D major, Op. 61 03-28-1968 1967-1968 Season\n",
      "Ludwig van Beethoven, Concerto for Violin in D major, Op. 61 02-09-1999 1998-1999 Season\n",
      "Ludwig van Beethoven, Concerto for Violin in D major, Op. 61 02-10-1999 1998-1999 Season\n",
      "Ludwig van Beethoven, Concerto for Violin in D major, Op. 61 02-11-1999 1998-1999 Season\n",
      "Ludwig van Beethoven, Concerto for Violin in D major, Op. 61 09-01-1985 1984-1985 Season\n",
      "Ludwig van Beethoven, Concerto for Violin in D major, Op. 61 03-13-1972 1971-1972 Season\n",
      "Ludwig van Beethoven, Concerto for Violin in D major, Op. 61 07-11-1965 1964-1965 Season\n",
      "Ludwig van Beethoven, Concerto for Violin in D major, Op. 61 01-17-1965 1964-1965 Season\n",
      "Ludwig van Beethoven, Concerto for Violin in D major, Op. 61 07-31-1965 1964-1965 Season\n",
      "Ludwig van Beethoven, Concerto for Violin in D major, Op. 61 01-15-1965 1964-1965 Season\n",
      "Ludwig van Beethoven, Concerto for Violin in D major, Op. 61 07-31-1965 1964-1965 Season\n",
      "Ludwig van Beethoven, Concerto for Violin in D major, Op. 61 01-20-1965 1964-1965 Season\n",
      "Ludwig van Beethoven, Concerto for Violin in D major, Op. 61 08-07-2021 2020-2021 Season\n",
      "Ludwig van Beethoven, Concerto for Violin in D major, Op. 61 11-03-2006 2006-2007 Season\n",
      "Ludwig van Beethoven, Concerto for Violin in D major, Op. 61 03-21-2002 2001-2002 Season\n",
      "Ludwig van Beethoven, Concerto for Violin in D major, Op. 61 03-21-2002 2001-2002 Season\n",
      "Ludwig van Beethoven, Concerto for Violin in D major, Op. 61 03-22-2002 2001-2002 Season\n",
      "Ludwig van Beethoven, Concerto for Violin in D major, Op. 61 03-23-2002 2001-2002 Season\n",
      "Ludwig van Beethoven, Concerto for Violin in D major, Op. 61 03-26-2002 2001-2002 Season\n",
      "Ludwig van Beethoven, Concerto for Violin in D major, Op. 61 04-16-2009 2008-2009 Season\n",
      "Ludwig van Beethoven, Concerto for Violin in D major, Op. 61 07-31-2009 2008-2009 Season\n",
      "Ludwig van Beethoven, Concerto for Violin in D major, Op. 61 04-16-2009 2008-2009 Season\n",
      "Ludwig van Beethoven, Concerto for Violin in D major, Op. 61 04-17-2009 2008-2009 Season\n",
      "Ludwig van Beethoven, Concerto for Violin in D major, Op. 61 04-18-2009 2008-2009 Season\n",
      "Ludwig van Beethoven, Concerto for Violin in D major, Op. 61 04-02-2015 2014-2015 Season\n",
      "Ludwig van Beethoven, Concerto for Violin in D major, Op. 61 04-03-2015 2014-2015 Season\n",
      "Ludwig van Beethoven, Concerto for Violin in D major, Op. 61 04-02-2015 2014-2015 Season\n",
      "Ludwig van Beethoven, Concerto for Violin in D major, Op. 61 04-04-2015 2014-2015 Season\n",
      "Ludwig van Beethoven, Concerto for Violin in D major, Op. 61 04-16-2015 2014-2015 Season\n",
      "Ludwig van Beethoven, Concerto for Violin in D major, Op. 61 07-24-2015 2014-2015 Season\n",
      "Ludwig van Beethoven, Concerto for Violin in D major, Op. 61 08-09-2019 2018-2019 Season\n",
      "Ludwig van Beethoven, Concerto for Violin in D major, Op. 61 07-30-2017 2016-2017 Season\n",
      "Ludwig van Beethoven, Concerto for Violin in D major, Op. 61 07-24-2005 2004-2005 Season\n",
      "Ludwig van Beethoven, Concerto for Violin in D major, Op. 61 04-14-2022 2021-2022 Season\n",
      "Ludwig van Beethoven, Concerto for Violin in D major, Op. 61 04-16-2022 2021-2022 Season\n",
      "Ludwig van Beethoven, Concerto for Violin in D major, Op. 61 04-14-2022 2021-2022 Season\n",
      "Ludwig van Beethoven, Concerto for Violin in D major, Op. 61 04-15-2022 2021-2022 Season\n",
      "Ludwig van Beethoven, Concerto for Violin in D major, Op. 61 09-26-2019 2019-2020 Season\n",
      "Ludwig van Beethoven, Concerto for Violin in D major, Op. 61 09-27-2019 2019-2020 Season\n",
      "Ludwig van Beethoven, Concerto for Violin in D major, Op. 61 09-28-2019 2019-2020 Season\n",
      "Ludwig van Beethoven, Concerto for Violin in D major, Op. 61 08-19-2012 2011-2012 Season\n",
      "Ludwig van Beethoven, Concerto for Violin in D major, Op. 61 04-24-2004 2003-2004 Season\n",
      "Ludwig van Beethoven, Concerto for Violin in D major, Op. 61 04-23-2004 2003-2004 Season\n",
      "Ludwig van Beethoven, Concerto for Violin in D major, Op. 61 04-27-2004 2003-2004 Season\n",
      "Ludwig van Beethoven, Concerto for Violin in D major, Op. 61 04-22-2004 2003-2004 Season\n",
      "Ludwig van Beethoven, Concerto for Violin in D major, Op. 61 08-28-2004 2003-2004 Season\n",
      "Ludwig van Beethoven, Concerto for Violin in D major, Op. 61 07-29-2006 2005-2006 Season\n",
      "Ludwig van Beethoven, Concerto for Violin in D major, Op. 61 11-07-2006 2006-2007 Season\n",
      "Ludwig van Beethoven, Concerto for Violin in D major, Op. 61 11-04-2006 2006-2007 Season\n",
      "Ludwig van Beethoven, Concerto for Violin in D major, Op. 61 11-02-2006 2006-2007 Season\n",
      "Ludwig van Beethoven, Concerto for Violin in D major, Op. 61 11-02-2006 2006-2007 Season\n",
      "Ludwig van Beethoven, Concerto for Violin in D major, Op. 61 10-26-2010 2010-2011 Season\n",
      "Ludwig van Beethoven, Concerto for Violin in D major, Op. 61 10-21-2010 2010-2011 Season\n",
      "Ludwig van Beethoven, Concerto for Violin in D major, Op. 61 10-20-2010 2010-2011 Season\n",
      "Ludwig van Beethoven, Concerto for Violin in D major, Op. 61 10-23-2010 2010-2011 Season\n",
      "Ludwig van Beethoven, Concerto for Violin in D major, Op. 61 10-22-2010 2010-2011 Season\n",
      "Ludwig van Beethoven, Concerto for Violin in D major, Op. 61 08-08-2010 2009-2010 Season\n",
      "Ludwig van Beethoven, Concerto for Violin in D major, Op. 61 10-01-2019 2019-2020 Season\n",
      "Ludwig van Beethoven, Concerto for Violin in D major, Op. 61 08-09-2002 2001-2002 Season\n",
      "Ludwig van Beethoven, Concerto for Violin in D major, Op. 61 03-20-1942 1941-1942 Season\n",
      "Ludwig van Beethoven, Concerto for Violin in D major, Op. 61 11-18-1960 1960-1961 Season\n",
      "Ludwig van Beethoven, Concerto for Violin in D major, Op. 61 07-22-1961 1960-1961 Season\n",
      "Ludwig van Beethoven, Concerto for Violin in D major, Op. 61 11-19-1960 1960-1961 Season\n",
      "Ludwig van Beethoven, Concerto for Violin in D major, Op. 61 11-17-1960 1960-1961 Season\n",
      "Ludwig van Beethoven, Concerto for Violin in D major, Op. 61 08-08-1940 1939-1940 Season\n",
      "Ludwig van Beethoven, Concerto for Violin in D major, Op. 61 03-21-1942 1941-1942 Season\n",
      "Ludwig van Beethoven, Concerto for Violin in D major, Op. 61 03-19-1926 1925-1926 Season\n",
      "Ludwig van Beethoven, Concerto for Violin in D major, Op. 61 03-20-1926 1925-1926 Season\n",
      "Ludwig van Beethoven, Concerto for Violin in D major, Op. 61 03-22-1924 1923-1924 Season\n",
      "Ludwig van Beethoven, Concerto for Violin in D major, Op. 61 03-21-1924 1923-1924 Season\n",
      "Ludwig van Beethoven, Concerto for Violin in D major, Op. 61 03-20-1924 1923-1924 Season\n",
      "Ludwig van Beethoven, Concerto for Violin in D major, Op. 61 08-09-1958 1957-1958 Season\n",
      "Ludwig van Beethoven, Concerto for Violin in D major, Op. 61 11-26-1955 1955-1956 Season\n",
      "Ludwig van Beethoven, Concerto for Violin in D major, Op. 61 02-10-1945 1944-1945 Season\n",
      "Ludwig van Beethoven, Concerto for Violin in D major, Op. 61 10-06-1956 1956-1957 Season\n",
      "Ludwig van Beethoven, Concerto for Violin in D major, Op. 61 10-09-1956 1956-1957 Season\n",
      "Ludwig van Beethoven, Concerto for Violin in D major, Op. 61 03-23-1934 1933-1934 Season\n",
      "Ludwig van Beethoven, Concerto for Violin in D major, Op. 61 03-24-1934 1933-1934 Season\n",
      "Ludwig van Beethoven, Concerto for Violin in D major, Op. 61 12-23-1947 1947-1948 Season\n",
      "Ludwig van Beethoven, Concerto for Violin in D major, Op. 61 10-26-1951 1951-1952 Season\n",
      "Ludwig van Beethoven, Concerto for Violin in D major, Op. 61 01-12-1925 1924-1925 Season\n",
      "Ludwig van Beethoven, Concerto for Violin in D major, Op. 61 08-28-1956 1955-1956 Season\n",
      "Ludwig van Beethoven, Concerto for Violin in D major, Op. 61 02-09-1945 1944-1945 Season\n",
      "Ludwig van Beethoven, Concerto for Violin in D major, Op. 61 11-25-1955 1955-1956 Season\n",
      "Ludwig van Beethoven, Concerto for Violin in D major, Op. 61 08-07-1954 1953-1954 Season\n",
      "Ludwig van Beethoven, Concerto for Violin in D major, Op. 61 04-23-1954 1953-1954 Season\n",
      "Ludwig van Beethoven, Concerto for Violin in D major, Op. 61 08-08-1954 1953-1954 Season\n",
      "Ludwig van Beethoven, Concerto for Violin in D major, Op. 61 04-24-1954 1953-1954 Season\n",
      "Ludwig van Beethoven, Concerto for Violin in D major, Op. 61 10-05-1956 1956-1957 Season\n",
      "Ludwig van Beethoven, Concerto for Violin in D major, Op. 61 08-09-1957 1956-1957 Season\n",
      "Ludwig van Beethoven, Concerto for Violin in D major, Op. 61 12-23-1938 1938-1939 Season\n",
      "Ludwig van Beethoven, Concerto for Violin in D major, Op. 61 12-22-1938 1938-1939 Season\n",
      "Ludwig van Beethoven, Concerto for Violin in D major, Op. 61 08-01-1952 1951-1952 Season\n",
      "Ludwig van Beethoven, Concerto for Violin in D major, Op. 61 10-27-1951 1951-1952 Season\n",
      "Ludwig van Beethoven, Concerto for Violin in D major, Op. 61 03-23-1923 1922-1923 Season\n",
      "Ludwig van Beethoven, Concerto for Violin in D major, Op. 61 03-24-1923 1922-1923 Season\n",
      "Ludwig van Beethoven, Concerto for Violin in D major, Op. 61 08-09-1958 1957-1958 Season\n",
      "Ludwig van Beethoven, Concerto for Violin in D major, Op. 61 08-13-1953 1952-1953 Season\n",
      "Ludwig van Beethoven, Concerto for Violin in D major, Op. 61 08-25-1961 1960-1961 Season\n",
      "Ludwig van Beethoven, Concerto for Violin in D major, Op. 61 02-27-1931 1930-1931 Season\n",
      "Ludwig van Beethoven, Concerto for Violin in D major, Op. 61 12-03-1930 1930-1931 Season\n",
      "Ludwig van Beethoven, Concerto for Violin in D major, Op. 61 02-28-1931 1930-1931 Season\n",
      "Ludwig van Beethoven, Concerto for Violin in D major, Op. 61 07-22-1955 1954-1955 Season\n"
     ]
    }
   ],
   "source": [
    "mydf = pd.DataFrame()\n",
    "for idx, row in concerto_merge.iterrows():\n",
    "    if idx > 0:\n",
    "        break\n",
    "    temp_df = new_df[new_df['WorkTitle'] == row['WorkTitle']]\n",
    "    mydf = temp_df\n",
    "    for t_index, t_row in temp_df.iterrows():\n",
    "        print(t_row['ComposerFullName'] + \", \" + t_row['WorkTitle'] + \" \" + t_row['EventDateString'] + \" \" + t_row['SeasonTitle'])\n"
   ],
   "metadata": {
    "collapsed": false,
    "ExecuteTime": {
     "end_time": "2024-03-26T19:24:43.932236Z",
     "start_time": "2024-03-26T19:24:43.924057Z"
    }
   }
  },
  {
   "cell_type": "code",
   "execution_count": 186,
   "outputs": [
    {
     "data": {
      "text/plain": "1883    2\n1884    0\n1885    2\n1886    2\n1887    0\n       ..\n2016    1\n2017    0\n2018    1\n2019    4\n2020    1\nLength: 138, dtype: int64"
     },
     "execution_count": 186,
     "metadata": {},
     "output_type": "execute_result"
    }
   ],
   "source": [
    "import matplotlib.pyplot as plt\n",
    "mydf.head()\n",
    "#x is year\n",
    "#y is occurrences\n",
    "season_occurrences = mydf['SeasonTitle'].value_counts()\n",
    "\n",
    "#b = pd.Series([20], index=[\"2024-2025 Season\"])\n",
    "#season_occurrences = season_occurrences.add(b, fill_value=0)\n",
    "\n",
    "#for index, value in season_occurrences.items():\n",
    "# nullSeasons = []\n",
    "# emptyCounts = []\n",
    "# for i in range(len(season_occurrences.index) - 1):\n",
    "#     if int(season_occurrences.index[i][0:4]) + 1 != int(season_occurrences.index[i+1][0:4]):\n",
    "#         current_year = int(season_occurrences.index[i][0:4])\n",
    "#         next_year = current_year + 1\n",
    "#\n",
    "#         missing_index = str(current_year + 1) + \"-\" + str(next_year + 1) + \" Season\"\n",
    "#         nullSeasons += [missing_index]\n",
    "#         emptyCounts += [0]\n",
    "#\n",
    "# missing_seasons = pd.Series(emptyCounts, nullSeasons)\n",
    "#\n",
    "# season_occurrences = season_occurrences.add(missing_seasons, fill_value=0)\n",
    "\n",
    "season_occurrences = season_occurrences.sort_index()\n",
    "\n",
    "seasonCounts = season_occurrences.tolist()\n",
    "seasonYears = [x for x in range(1883, 2023)]\n",
    "\n",
    "partial_indices = list(season_occurrences.index)\n",
    "partial_years = [int(x[0:4]) for x in partial_indices]\n",
    "\n",
    "current_index = 0\n",
    "new_occurrences = []\n",
    "new_years = []\n",
    "for i in range(len(partial_years) - 1):\n",
    "    year = partial_years[i]\n",
    "    next_year = partial_years[i + 1]\n",
    "\n",
    "    new_years += [year]\n",
    "    new_occurrences += [season_occurrences.values[i]]\n",
    "    if year + 1 != next_year:\n",
    "        while year + 1 != next_year:\n",
    "            new_years += [year + 1]\n",
    "            new_occurrences += [0]\n",
    "            year += 1\n",
    "\n",
    "\n",
    "final_series = pd.Series(new_occurrences, new_years)\n",
    "\n",
    "final_series\n",
    "# plt.figure().set_figwidth(30)\n",
    "# plt.plot(final_series)\n",
    "# ax = plt.gca()\n",
    "# ax.set_ylim([0,9])\n",
    "# plt.show()\n"
   ],
   "metadata": {
    "collapsed": false,
    "ExecuteTime": {
     "end_time": "2024-03-27T03:14:13.986630Z",
     "start_time": "2024-03-27T03:14:13.984011Z"
    }
   }
  },
  {
   "cell_type": "code",
   "execution_count": 204,
   "outputs": [
    {
     "data": {
      "text/plain": "<Figure size 2000x480 with 0 Axes>"
     },
     "metadata": {},
     "output_type": "display_data"
    },
    {
     "data": {
      "text/plain": "<Figure size 640x100 with 1 Axes>",
      "image/png": "[encoded data removed]"
     },
     "metadata": {},
     "output_type": "display_data"
    }
   ],
   "source": [
    "from scipy.interpolate import make_interp_spline, BSpline\n",
    "import numpy as np\n",
    "\n",
    "np_years = np.array(new_years)\n",
    "np_occurrences = np.array(new_occurrences)\n",
    "\n",
    "xnew = np.linspace(np_years.min(), np_years.max(), 300)\n",
    "spl = make_interp_spline(np_years, np_occurrences, k=2)\n",
    "power_smooth = spl(xnew)\n",
    "\n",
    "plt.figure().set_figwidth(20)\n",
    "plt.figure().set_figheight(1)\n",
    "plt.plot(xnew, power_smooth)\n",
    "plt.show()"
   ],
   "metadata": {
    "collapsed": false,
    "ExecuteTime": {
     "end_time": "2024-03-27T03:26:54.013925Z",
     "start_time": "2024-03-27T03:26:53.976400Z"
    }
   }
  },
  {
   "cell_type": "code",
   "execution_count": 76,
   "outputs": [
    {
     "name": "stdout",
     "output_type": "stream",
     "text": [
      "    EventDate fruitName    size\n",
      "0  10-26-2022      Pear  Medium\n",
      "0  10-26-2022    Orange   Large\n",
      "0  10-27-2022     Apple   Small\n",
      "0  10-28-2022    Banana  Medium\n",
      "0  10-28-2022      Kiwi   Small\n"
     ]
    }
   ],
   "source": [
    "#ChatGPT for the win\n",
    "\n",
    "data = {\n",
    "    'EventDate': ['10-26-2022', '10-27-2022', '10-28-2022'],\n",
    "    'Fruits': [\n",
    "        [{'fruitName': 'Pear', 'size': 'Medium'}, {'fruitName': 'Orange', 'size': 'Large'}],\n",
    "        [{'fruitName': 'Apple', 'size': 'Small'}],\n",
    "        [{'fruitName': 'Banana', 'size': 'Medium'}, {'fruitName': 'Kiwi', 'size': 'Small'}]\n",
    "    ]\n",
    "}\n",
    "\n",
    "df = pd.DataFrame(data)\n",
    "\n",
    "# Create an empty DataFrame to store normalized data\n",
    "normalized_df = pd.DataFrame(columns=['EventDate', 'fruitName', 'size'])\n",
    "\n",
    "# Iterate over each row in the original DataFrame\n",
    "for index, row in df.iterrows():\n",
    "    event_date = row['EventDate']\n",
    "    fruits_list = row['Fruits']\n",
    "\n",
    "    # Iterate over each fruit in the list\n",
    "    for fruit in fruits_list:\n",
    "        fruit_name = fruit['fruitName']\n",
    "        fruit_size = fruit['size']\n",
    "\n",
    "        # Append the data to the normalized DataFrame\n",
    "        # normalized_df = normalized_df + pd.DataFrame({'EventDate': event_date, 'fruitName': fruit_name, 'size': fruit_size})\n",
    "        add_df = pd.DataFrame({'EventDate': [event_date], 'fruitName': [fruit_name], 'size': [fruit_size]})\n",
    "        normalized_df = pd.concat([normalized_df, add_df])\n",
    "\n",
    "print(normalized_df)\n"
   ],
   "metadata": {
    "collapsed": false,
    "ExecuteTime": {
     "end_time": "2024-03-26T15:46:49.947308Z",
     "start_time": "2024-03-26T15:46:49.944691Z"
    }
   }
  },
  {
   "cell_type": "code",
   "execution_count": 4,
   "outputs": [],
   "source": [
    "import json\n",
    "import pandas as pd"
   ],
   "metadata": {
    "collapsed": false,
    "ExecuteTime": {
     "end_time": "2024-04-22T01:58:27.619477Z",
     "start_time": "2024-04-22T01:58:26.702184Z"
    }
   }
  },
  {
   "cell_type": "code",
   "execution_count": 2,
   "outputs": [],
   "source": [
    "data = json.load(open(\"event_data.json\", \"r\"))"
   ],
   "metadata": {
    "collapsed": false,
    "ExecuteTime": {
     "end_time": "2024-04-22T01:57:20.234482Z",
     "start_time": "2024-04-22T01:56:21.096497Z"
    }
   }
  },
  {
   "cell_type": "code",
   "execution_count": 5,
   "outputs": [
    {
     "ename": "AttributeError",
     "evalue": "'list' object has no attribute 'values'",
     "output_type": "error",
     "traceback": [
      "\u001B[0;31m---------------------------------------------------------------------------\u001B[0m",
      "\u001B[0;31mAttributeError\u001B[0m                            Traceback (most recent call last)",
      "\u001B[0;32m/var/folders/f7/ff9_tbzx3dnc4b54hf7fr9tr0000gn/T/ipykernel_25876/699865186.py\u001B[0m in \u001B[0;36m?\u001B[0;34m()\u001B[0m\n\u001B[0;32m----> 1\u001B[0;31m \u001B[0mjared\u001B[0m \u001B[0;34m=\u001B[0m \u001B[0mpd\u001B[0m\u001B[0;34m.\u001B[0m\u001B[0mDataFrame\u001B[0m\u001B[0;34m.\u001B[0m\u001B[0mfrom_dict\u001B[0m\u001B[0;34m(\u001B[0m\u001B[0mdata\u001B[0m\u001B[0;34m,\u001B[0m \u001B[0morient\u001B[0m\u001B[0;34m=\u001B[0m\u001B[0;34m\"index\"\u001B[0m\u001B[0;34m)\u001B[0m\u001B[0;34m\u001B[0m\u001B[0;34m\u001B[0m\u001B[0m\n\u001B[0m\u001B[1;32m      2\u001B[0m \u001B[0;34m\u001B[0m\u001B[0m\n",
      "\u001B[0;32m~/PycharmProjects/MusicData/venv/lib/python3.10/site-packages/pandas/core/frame.py\u001B[0m in \u001B[0;36m?\u001B[0;34m(cls, data, orient, dtype, columns)\u001B[0m\n\u001B[1;32m   1884\u001B[0m         \u001B[0morient\u001B[0m \u001B[0;34m=\u001B[0m \u001B[0morient\u001B[0m\u001B[0;34m.\u001B[0m\u001B[0mlower\u001B[0m\u001B[0;34m(\u001B[0m\u001B[0;34m)\u001B[0m  \u001B[0;31m# type: ignore[assignment]\u001B[0m\u001B[0;34m\u001B[0m\u001B[0;34m\u001B[0m\u001B[0m\n\u001B[1;32m   1885\u001B[0m         \u001B[0;32mif\u001B[0m \u001B[0morient\u001B[0m \u001B[0;34m==\u001B[0m \u001B[0;34m\"index\"\u001B[0m\u001B[0;34m:\u001B[0m\u001B[0;34m\u001B[0m\u001B[0;34m\u001B[0m\u001B[0m\n\u001B[1;32m   1886\u001B[0m             \u001B[0;32mif\u001B[0m \u001B[0mlen\u001B[0m\u001B[0;34m(\u001B[0m\u001B[0mdata\u001B[0m\u001B[0;34m)\u001B[0m \u001B[0;34m>\u001B[0m \u001B[0;36m0\u001B[0m\u001B[0;34m:\u001B[0m\u001B[0;34m\u001B[0m\u001B[0;34m\u001B[0m\u001B[0m\n\u001B[1;32m   1887\u001B[0m                 \u001B[0;31m# TODO speed up Series case\u001B[0m\u001B[0;34m\u001B[0m\u001B[0;34m\u001B[0m\u001B[0m\n\u001B[0;32m-> 1888\u001B[0;31m                 \u001B[0;32mif\u001B[0m \u001B[0misinstance\u001B[0m\u001B[0;34m(\u001B[0m\u001B[0mnext\u001B[0m\u001B[0;34m(\u001B[0m\u001B[0miter\u001B[0m\u001B[0;34m(\u001B[0m\u001B[0mdata\u001B[0m\u001B[0;34m.\u001B[0m\u001B[0mvalues\u001B[0m\u001B[0;34m(\u001B[0m\u001B[0;34m)\u001B[0m\u001B[0;34m)\u001B[0m\u001B[0;34m)\u001B[0m\u001B[0;34m,\u001B[0m \u001B[0;34m(\u001B[0m\u001B[0mSeries\u001B[0m\u001B[0;34m,\u001B[0m \u001B[0mdict\u001B[0m\u001B[0;34m)\u001B[0m\u001B[0;34m)\u001B[0m\u001B[0;34m:\u001B[0m\u001B[0;34m\u001B[0m\u001B[0;34m\u001B[0m\u001B[0m\n\u001B[0m\u001B[1;32m   1889\u001B[0m                     \u001B[0mdata\u001B[0m \u001B[0;34m=\u001B[0m \u001B[0m_from_nested_dict\u001B[0m\u001B[0;34m(\u001B[0m\u001B[0mdata\u001B[0m\u001B[0;34m)\u001B[0m\u001B[0;34m\u001B[0m\u001B[0;34m\u001B[0m\u001B[0m\n\u001B[1;32m   1890\u001B[0m                 \u001B[0;32melse\u001B[0m\u001B[0;34m:\u001B[0m\u001B[0;34m\u001B[0m\u001B[0;34m\u001B[0m\u001B[0m\n\u001B[1;32m   1891\u001B[0m                     \u001B[0mindex\u001B[0m \u001B[0;34m=\u001B[0m \u001B[0mlist\u001B[0m\u001B[0;34m(\u001B[0m\u001B[0mdata\u001B[0m\u001B[0;34m.\u001B[0m\u001B[0mkeys\u001B[0m\u001B[0;34m(\u001B[0m\u001B[0;34m)\u001B[0m\u001B[0;34m)\u001B[0m\u001B[0;34m\u001B[0m\u001B[0;34m\u001B[0m\u001B[0m\n",
      "\u001B[0;31mAttributeError\u001B[0m: 'list' object has no attribute 'values'"
     ]
    }
   ],
   "source": [
    "jared = pd.DataFrame.from_dict(data, orient=\"index\")\n"
   ],
   "metadata": {
    "collapsed": false,
    "ExecuteTime": {
     "end_time": "2024-04-22T01:58:30.087801Z",
     "start_time": "2024-04-22T01:58:30.020197Z"
    }
   }
  },
  {
   "cell_type": "code",
   "execution_count": null,
   "outputs": [],
   "source": [],
   "metadata": {
    "collapsed": false
   }
  }
 ],
 "metadata": {
  "kernelspec": {
   "display_name": "Python 3",
   "language": "python",
   "name": "python3"
  },
  "language_info": {
   "codemirror_mode": {
    "name": "ipython",
    "version": 2
   },
   "file_extension": ".py",
   "mimetype": "text/x-python",
   "name": "python",
   "nbconvert_exporter": "python",
   "pygments_lexer": "ipython2",
   "version": "2.7.6"
  }
 },
 "nbformat": 4,
 "nbformat_minor": 0
}
